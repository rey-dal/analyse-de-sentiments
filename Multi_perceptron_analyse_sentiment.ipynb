{
  "cells": [
    {
      "cell_type": "markdown",
      "id": "69d4d223-581b-417a-b6ff-f0950b2ec9d9",
      "metadata": {
        "id": "69d4d223-581b-417a-b6ff-f0950b2ec9d9"
      },
      "source": [
        "**Entraîner et de comparer plusieurs réseaux de neurones de type et de taille différent sur une tâche textuelle**, à savoir l'analyse de sentiment.\n"
      ]
    },
    {
      "cell_type": "code",
      "execution_count": null,
      "id": "108d5763-a35d-4395-9e66-0f0908174827",
      "metadata": {
        "id": "108d5763-a35d-4395-9e66-0f0908174827",
        "outputId": "d088d370-c2a2-405c-a92d-f6d3e3172db5"
      },
      "outputs": [
        {
          "name": "stdout",
          "output_type": "stream",
          "text": [
            "Requirement already satisfied: keras in c:\\users\\ananb\\appdata\\local\\programs\\python\\python312\\lib\\site-packages (3.5.0)\n",
            "Requirement already satisfied: Keras-Preprocessing in c:\\users\\ananb\\appdata\\local\\programs\\python\\python312\\lib\\site-packages (1.1.2)\n",
            "Requirement already satisfied: tensorflow in c:\\users\\ananb\\appdata\\local\\programs\\python\\python312\\lib\\site-packages (2.17.0)\n",
            "Requirement already satisfied: nltk in c:\\users\\ananb\\appdata\\local\\programs\\python\\python312\\lib\\site-packages (3.9.1)\n",
            "Requirement already satisfied: absl-py in c:\\users\\ananb\\appdata\\local\\programs\\python\\python312\\lib\\site-packages (from keras) (2.1.0)\n",
            "Requirement already satisfied: numpy in c:\\users\\ananb\\appdata\\local\\programs\\python\\python312\\lib\\site-packages (from keras) (1.26.4)\n",
            "Requirement already satisfied: rich in c:\\users\\ananb\\appdata\\local\\programs\\python\\python312\\lib\\site-packages (from keras) (13.9.1)\n",
            "Requirement already satisfied: namex in c:\\users\\ananb\\appdata\\local\\programs\\python\\python312\\lib\\site-packages (from keras) (0.0.8)\n",
            "Requirement already satisfied: h5py in c:\\users\\ananb\\appdata\\local\\programs\\python\\python312\\lib\\site-packages (from keras) (3.12.1)\n",
            "Requirement already satisfied: optree in c:\\users\\ananb\\appdata\\local\\programs\\python\\python312\\lib\\site-packages (from keras) (0.12.1)\n",
            "Requirement already satisfied: ml-dtypes in c:\\users\\ananb\\appdata\\local\\programs\\python\\python312\\lib\\site-packages (from keras) (0.4.1)\n",
            "Requirement already satisfied: packaging in c:\\users\\ananb\\appdata\\roaming\\python\\python312\\site-packages (from keras) (24.1)\n",
            "Requirement already satisfied: six>=1.9.0 in c:\\users\\ananb\\appdata\\roaming\\python\\python312\\site-packages (from Keras-Preprocessing) (1.16.0)\n",
            "Requirement already satisfied: tensorflow-intel==2.17.0 in c:\\users\\ananb\\appdata\\local\\programs\\python\\python312\\lib\\site-packages (from tensorflow) (2.17.0)\n",
            "Requirement already satisfied: astunparse>=1.6.0 in c:\\users\\ananb\\appdata\\local\\programs\\python\\python312\\lib\\site-packages (from tensorflow-intel==2.17.0->tensorflow) (1.6.3)\n",
            "Requirement already satisfied: flatbuffers>=24.3.25 in c:\\users\\ananb\\appdata\\local\\programs\\python\\python312\\lib\\site-packages (from tensorflow-intel==2.17.0->tensorflow) (24.3.25)\n",
            "Requirement already satisfied: gast!=0.5.0,!=0.5.1,!=0.5.2,>=0.2.1 in c:\\users\\ananb\\appdata\\local\\programs\\python\\python312\\lib\\site-packages (from tensorflow-intel==2.17.0->tensorflow) (0.6.0)\n",
            "Requirement already satisfied: google-pasta>=0.1.1 in c:\\users\\ananb\\appdata\\local\\programs\\python\\python312\\lib\\site-packages (from tensorflow-intel==2.17.0->tensorflow) (0.2.0)\n",
            "Requirement already satisfied: libclang>=13.0.0 in c:\\users\\ananb\\appdata\\local\\programs\\python\\python312\\lib\\site-packages (from tensorflow-intel==2.17.0->tensorflow) (18.1.1)\n",
            "Requirement already satisfied: opt-einsum>=2.3.2 in c:\\users\\ananb\\appdata\\local\\programs\\python\\python312\\lib\\site-packages (from tensorflow-intel==2.17.0->tensorflow) (3.4.0)\n",
            "Requirement already satisfied: protobuf!=4.21.0,!=4.21.1,!=4.21.2,!=4.21.3,!=4.21.4,!=4.21.5,<5.0.0dev,>=3.20.3 in c:\\users\\ananb\\appdata\\local\\programs\\python\\python312\\lib\\site-packages (from tensorflow-intel==2.17.0->tensorflow) (4.25.5)\n",
            "Requirement already satisfied: requests<3,>=2.21.0 in c:\\users\\ananb\\appdata\\local\\programs\\python\\python312\\lib\\site-packages (from tensorflow-intel==2.17.0->tensorflow) (2.32.3)\n",
            "Requirement already satisfied: setuptools in c:\\users\\ananb\\appdata\\local\\programs\\python\\python312\\lib\\site-packages (from tensorflow-intel==2.17.0->tensorflow) (75.1.0)\n",
            "Requirement already satisfied: termcolor>=1.1.0 in c:\\users\\ananb\\appdata\\local\\programs\\python\\python312\\lib\\site-packages (from tensorflow-intel==2.17.0->tensorflow) (2.4.0)\n",
            "Requirement already satisfied: typing-extensions>=3.6.6 in c:\\users\\ananb\\appdata\\local\\programs\\python\\python312\\lib\\site-packages (from tensorflow-intel==2.17.0->tensorflow) (4.12.2)\n",
            "Requirement already satisfied: wrapt>=1.11.0 in c:\\users\\ananb\\appdata\\local\\programs\\python\\python312\\lib\\site-packages (from tensorflow-intel==2.17.0->tensorflow) (1.16.0)\n",
            "Requirement already satisfied: grpcio<2.0,>=1.24.3 in c:\\users\\ananb\\appdata\\local\\programs\\python\\python312\\lib\\site-packages (from tensorflow-intel==2.17.0->tensorflow) (1.66.2)\n",
            "Requirement already satisfied: tensorboard<2.18,>=2.17 in c:\\users\\ananb\\appdata\\local\\programs\\python\\python312\\lib\\site-packages (from tensorflow-intel==2.17.0->tensorflow) (2.17.1)\n",
            "Requirement already satisfied: click in c:\\users\\ananb\\appdata\\local\\programs\\python\\python312\\lib\\site-packages (from nltk) (8.1.7)\n",
            "Requirement already satisfied: joblib in c:\\users\\ananb\\appdata\\local\\programs\\python\\python312\\lib\\site-packages (from nltk) (1.4.2)\n",
            "Requirement already satisfied: regex>=2021.8.3 in c:\\users\\ananb\\appdata\\local\\programs\\python\\python312\\lib\\site-packages (from nltk) (2024.9.11)\n",
            "Requirement already satisfied: tqdm in c:\\users\\ananb\\appdata\\local\\programs\\python\\python312\\lib\\site-packages (from nltk) (4.66.5)\n",
            "Requirement already satisfied: colorama in c:\\users\\ananb\\appdata\\local\\programs\\python\\python312\\lib\\site-packages (from click->nltk) (0.4.6)\n",
            "Requirement already satisfied: markdown-it-py>=2.2.0 in c:\\users\\ananb\\appdata\\local\\programs\\python\\python312\\lib\\site-packages (from rich->keras) (3.0.0)\n",
            "Requirement already satisfied: pygments<3.0.0,>=2.13.0 in c:\\users\\ananb\\appdata\\roaming\\python\\python312\\site-packages (from rich->keras) (2.18.0)\n",
            "Requirement already satisfied: wheel<1.0,>=0.23.0 in c:\\users\\ananb\\appdata\\local\\programs\\python\\python312\\lib\\site-packages (from astunparse>=1.6.0->tensorflow-intel==2.17.0->tensorflow) (0.44.0)\n",
            "Requirement already satisfied: mdurl~=0.1 in c:\\users\\ananb\\appdata\\local\\programs\\python\\python312\\lib\\site-packages (from markdown-it-py>=2.2.0->rich->keras) (0.1.2)\n",
            "Requirement already satisfied: charset-normalizer<4,>=2 in c:\\users\\ananb\\appdata\\local\\programs\\python\\python312\\lib\\site-packages (from requests<3,>=2.21.0->tensorflow-intel==2.17.0->tensorflow) (3.3.2)\n",
            "Requirement already satisfied: idna<4,>=2.5 in c:\\users\\ananb\\appdata\\local\\programs\\python\\python312\\lib\\site-packages (from requests<3,>=2.21.0->tensorflow-intel==2.17.0->tensorflow) (3.10)\n",
            "Requirement already satisfied: urllib3<3,>=1.21.1 in c:\\users\\ananb\\appdata\\local\\programs\\python\\python312\\lib\\site-packages (from requests<3,>=2.21.0->tensorflow-intel==2.17.0->tensorflow) (2.2.3)\n",
            "Requirement already satisfied: certifi>=2017.4.17 in c:\\users\\ananb\\appdata\\local\\programs\\python\\python312\\lib\\site-packages (from requests<3,>=2.21.0->tensorflow-intel==2.17.0->tensorflow) (2024.8.30)\n",
            "Requirement already satisfied: markdown>=2.6.8 in c:\\users\\ananb\\appdata\\local\\programs\\python\\python312\\lib\\site-packages (from tensorboard<2.18,>=2.17->tensorflow-intel==2.17.0->tensorflow) (3.7)\n",
            "Requirement already satisfied: tensorboard-data-server<0.8.0,>=0.7.0 in c:\\users\\ananb\\appdata\\local\\programs\\python\\python312\\lib\\site-packages (from tensorboard<2.18,>=2.17->tensorflow-intel==2.17.0->tensorflow) (0.7.2)\n",
            "Requirement already satisfied: werkzeug>=1.0.1 in c:\\users\\ananb\\appdata\\local\\programs\\python\\python312\\lib\\site-packages (from tensorboard<2.18,>=2.17->tensorflow-intel==2.17.0->tensorflow) (3.0.4)\n",
            "Requirement already satisfied: MarkupSafe>=2.1.1 in c:\\users\\ananb\\appdata\\local\\programs\\python\\python312\\lib\\site-packages (from werkzeug>=1.0.1->tensorboard<2.18,>=2.17->tensorflow-intel==2.17.0->tensorflow) (2.1.5)\n"
          ]
        }
      ],
      "source": [
        "# Installation de keras et de tensorflow (tensorflow étant une grosse bibliothèque, cela peut prendre un certain temps)\n",
        "# Cette cellule n'a besoin d'être exécutée qu'une seule fois en tout et pour tout\n",
        "!pip install keras Keras-Preprocessing tensorflow nltk"
      ]
    },
    {
      "cell_type": "markdown",
      "id": "3be228e6-584f-4f95-a073-aee391e80466",
      "metadata": {
        "id": "3be228e6-584f-4f95-a073-aee391e80466"
      },
      "source": [
        "**Attention :** Après avoir exécuté la cellule ci-dessus, il faut impérativement redémarrer le noyau Python pour que Python puisse reconnaître le module nouvellement installé.\n",
        "\n",
        "La manière de faire cela dépend de votre éditeur :\n",
        "\n",
        "- Sur Jupyter : `Noyau -> Redémarrer` (ou `Kernel -> Restart` si l'instance est en anglais)\n",
        "- Sur Colab : `Runtime -> Restart session` : <div><img src=\"img/colab.png\" width=\"500\"/></div>\n",
        "- Sur VSCode : Un bouton `Restart`/`Redémarrer` : <div><img src=\"img/vscode.png\" width=\"500\"/></div>\n",
        "\n"
      ]
    },
    {
      "cell_type": "code",
      "execution_count": null,
      "id": "5c5e7502-a884-4215-95a7-5795e424b7a8",
      "metadata": {
        "id": "5c5e7502-a884-4215-95a7-5795e424b7a8"
      },
      "outputs": [],
      "source": [
        "# Importation des bibliothèques:\n",
        "# - random pour la génération de nombres aléatoires et la reproducibilité\n",
        "# - numpy pour la gestion des matrices\n",
        "# - tensorflow pour la gestion de réseaux de neuroens\n",
        "# - keras pour la création et l'entraînement simplifié des réseaux (keras est une interface haut niveau qui utilise tensorflow)\n",
        "# - pandas pour le chargement et la visualisation des données sous forme de tableau\n",
        "# - scikit-learn, nltk et re pour le pré-traitement des données\n",
        "# - matplotlib pour les graphiques\n",
        "\n",
        "import random\n",
        "import re\n",
        "import numpy as np\n",
        "import tensorflow as tf\n",
        "import pandas as pd\n",
        "import nltk\n",
        "import keras\n",
        "\n",
        "import matplotlib.pyplot as plt\n",
        "\n",
        "from keras import Sequential\n",
        "from keras.layers import Dense\n",
        "from nltk.tokenize import word_tokenize\n",
        "from sklearn.preprocessing import OneHotEncoder\n",
        "from sklearn.model_selection import train_test_split\n",
        "from sklearn.metrics import ConfusionMatrixDisplay, classification_report\n",
        "\n",
        "# Reproducibilité\n",
        "seed = 1"
      ]
    },
    {
      "cell_type": "markdown",
      "id": "a268ec7d-cb31-4ee8-a029-868c99e8dfe8",
      "metadata": {
        "id": "a268ec7d-cb31-4ee8-a029-868c99e8dfe8"
      },
      "source": [
        "# Préparation des données"
      ]
    },
    {
      "cell_type": "markdown",
      "id": "72a7ffee-f8ef-43c4-a295-1ee580e85faf",
      "metadata": {
        "id": "72a7ffee-f8ef-43c4-a295-1ee580e85faf"
      },
      "source": [
        "Le jeu de données sur lequel nous allons travailler est issu de [Kaggle](https://www.kaggle.com/datasets/abhi8923shriv/sentiment-analysis-dataset). Il s'agit d'un ensemble de tweets qui ont été automatiquement annoté pour de l'analyse de sentiment. Autrement dit, pour un tweet donné, on cherche à savoir si son contenu est positif, négatif ou neutre."
      ]
    },
    {
      "cell_type": "code",
      "execution_count": null,
      "id": "64bbabe1-f6b4-4b13-bdae-d71029287e38",
      "metadata": {
        "id": "64bbabe1-f6b4-4b13-bdae-d71029287e38",
        "outputId": "80c55af7-ff10-437e-bf42-0130d724a2de"
      },
      "outputs": [
        {
          "data": {
            "text/html": [
              "<div>\n",
              "<style scoped>\n",
              "    .dataframe tbody tr th:only-of-type {\n",
              "        vertical-align: middle;\n",
              "    }\n",
              "\n",
              "    .dataframe tbody tr th {\n",
              "        vertical-align: top;\n",
              "    }\n",
              "\n",
              "    .dataframe thead th {\n",
              "        text-align: right;\n",
              "    }\n",
              "</style>\n",
              "<table border=\"1\" class=\"dataframe\">\n",
              "  <thead>\n",
              "    <tr style=\"text-align: right;\">\n",
              "      <th></th>\n",
              "      <th>textID</th>\n",
              "      <th>text</th>\n",
              "      <th>selected_text</th>\n",
              "      <th>sentiment</th>\n",
              "      <th>Time of Tweet</th>\n",
              "      <th>Age of User</th>\n",
              "      <th>Country</th>\n",
              "      <th>Population -2020</th>\n",
              "      <th>Land Area (KmÂ²)</th>\n",
              "      <th>Density (P/KmÂ²)</th>\n",
              "    </tr>\n",
              "  </thead>\n",
              "  <tbody>\n",
              "    <tr>\n",
              "      <th>0</th>\n",
              "      <td>cb774db0d1</td>\n",
              "      <td>I`d have responded, if I were going</td>\n",
              "      <td>I`d have responded, if I were going</td>\n",
              "      <td>neutral</td>\n",
              "      <td>morning</td>\n",
              "      <td>0-20</td>\n",
              "      <td>Afghanistan</td>\n",
              "      <td>38928346</td>\n",
              "      <td>652860.0</td>\n",
              "      <td>60</td>\n",
              "    </tr>\n",
              "    <tr>\n",
              "      <th>1</th>\n",
              "      <td>549e992a42</td>\n",
              "      <td>Sooo SAD I will miss you here in San Diego!!!</td>\n",
              "      <td>Sooo SAD</td>\n",
              "      <td>negative</td>\n",
              "      <td>noon</td>\n",
              "      <td>21-30</td>\n",
              "      <td>Albania</td>\n",
              "      <td>2877797</td>\n",
              "      <td>27400.0</td>\n",
              "      <td>105</td>\n",
              "    </tr>\n",
              "    <tr>\n",
              "      <th>2</th>\n",
              "      <td>088c60f138</td>\n",
              "      <td>my boss is bullying me...</td>\n",
              "      <td>bullying me</td>\n",
              "      <td>negative</td>\n",
              "      <td>night</td>\n",
              "      <td>31-45</td>\n",
              "      <td>Algeria</td>\n",
              "      <td>43851044</td>\n",
              "      <td>2381740.0</td>\n",
              "      <td>18</td>\n",
              "    </tr>\n",
              "    <tr>\n",
              "      <th>3</th>\n",
              "      <td>9642c003ef</td>\n",
              "      <td>what interview! leave me alone</td>\n",
              "      <td>leave me alone</td>\n",
              "      <td>negative</td>\n",
              "      <td>morning</td>\n",
              "      <td>46-60</td>\n",
              "      <td>Andorra</td>\n",
              "      <td>77265</td>\n",
              "      <td>470.0</td>\n",
              "      <td>164</td>\n",
              "    </tr>\n",
              "    <tr>\n",
              "      <th>4</th>\n",
              "      <td>358bd9e861</td>\n",
              "      <td>Sons of ****, why couldn`t they put them on t...</td>\n",
              "      <td>Sons of ****,</td>\n",
              "      <td>negative</td>\n",
              "      <td>noon</td>\n",
              "      <td>60-70</td>\n",
              "      <td>Angola</td>\n",
              "      <td>32866272</td>\n",
              "      <td>1246700.0</td>\n",
              "      <td>26</td>\n",
              "    </tr>\n",
              "    <tr>\n",
              "      <th>...</th>\n",
              "      <td>...</td>\n",
              "      <td>...</td>\n",
              "      <td>...</td>\n",
              "      <td>...</td>\n",
              "      <td>...</td>\n",
              "      <td>...</td>\n",
              "      <td>...</td>\n",
              "      <td>...</td>\n",
              "      <td>...</td>\n",
              "      <td>...</td>\n",
              "    </tr>\n",
              "    <tr>\n",
              "      <th>27476</th>\n",
              "      <td>4eac33d1c0</td>\n",
              "      <td>wish we could come see u on Denver  husband l...</td>\n",
              "      <td>d lost</td>\n",
              "      <td>negative</td>\n",
              "      <td>night</td>\n",
              "      <td>31-45</td>\n",
              "      <td>Ghana</td>\n",
              "      <td>31072940</td>\n",
              "      <td>227540.0</td>\n",
              "      <td>137</td>\n",
              "    </tr>\n",
              "    <tr>\n",
              "      <th>27477</th>\n",
              "      <td>4f4c4fc327</td>\n",
              "      <td>I`ve wondered about rake to.  The client has ...</td>\n",
              "      <td>, don`t force</td>\n",
              "      <td>negative</td>\n",
              "      <td>morning</td>\n",
              "      <td>46-60</td>\n",
              "      <td>Greece</td>\n",
              "      <td>10423054</td>\n",
              "      <td>128900.0</td>\n",
              "      <td>81</td>\n",
              "    </tr>\n",
              "    <tr>\n",
              "      <th>27478</th>\n",
              "      <td>f67aae2310</td>\n",
              "      <td>Yay good for both of you. Enjoy the break - y...</td>\n",
              "      <td>Yay good for both of you.</td>\n",
              "      <td>positive</td>\n",
              "      <td>noon</td>\n",
              "      <td>60-70</td>\n",
              "      <td>Grenada</td>\n",
              "      <td>112523</td>\n",
              "      <td>340.0</td>\n",
              "      <td>331</td>\n",
              "    </tr>\n",
              "    <tr>\n",
              "      <th>27479</th>\n",
              "      <td>ed167662a5</td>\n",
              "      <td>But it was worth it  ****.</td>\n",
              "      <td>But it was worth it  ****.</td>\n",
              "      <td>positive</td>\n",
              "      <td>night</td>\n",
              "      <td>70-100</td>\n",
              "      <td>Guatemala</td>\n",
              "      <td>17915568</td>\n",
              "      <td>107160.0</td>\n",
              "      <td>167</td>\n",
              "    </tr>\n",
              "    <tr>\n",
              "      <th>27480</th>\n",
              "      <td>6f7127d9d7</td>\n",
              "      <td>All this flirting going on - The ATG smiles...</td>\n",
              "      <td>All this flirting going on - The ATG smiles. Y...</td>\n",
              "      <td>neutral</td>\n",
              "      <td>morning</td>\n",
              "      <td>0-20</td>\n",
              "      <td>Guinea</td>\n",
              "      <td>13132795</td>\n",
              "      <td>246000.0</td>\n",
              "      <td>53</td>\n",
              "    </tr>\n",
              "  </tbody>\n",
              "</table>\n",
              "<p>27481 rows × 10 columns</p>\n",
              "</div>"
            ],
            "text/plain": [
              "           textID                                               text  \\\n",
              "0      cb774db0d1                I`d have responded, if I were going   \n",
              "1      549e992a42      Sooo SAD I will miss you here in San Diego!!!   \n",
              "2      088c60f138                          my boss is bullying me...   \n",
              "3      9642c003ef                     what interview! leave me alone   \n",
              "4      358bd9e861   Sons of ****, why couldn`t they put them on t...   \n",
              "...           ...                                                ...   \n",
              "27476  4eac33d1c0   wish we could come see u on Denver  husband l...   \n",
              "27477  4f4c4fc327   I`ve wondered about rake to.  The client has ...   \n",
              "27478  f67aae2310   Yay good for both of you. Enjoy the break - y...   \n",
              "27479  ed167662a5                         But it was worth it  ****.   \n",
              "27480  6f7127d9d7     All this flirting going on - The ATG smiles...   \n",
              "\n",
              "                                           selected_text sentiment  \\\n",
              "0                    I`d have responded, if I were going   neutral   \n",
              "1                                               Sooo SAD  negative   \n",
              "2                                            bullying me  negative   \n",
              "3                                         leave me alone  negative   \n",
              "4                                          Sons of ****,  negative   \n",
              "...                                                  ...       ...   \n",
              "27476                                             d lost  negative   \n",
              "27477                                      , don`t force  negative   \n",
              "27478                          Yay good for both of you.  positive   \n",
              "27479                         But it was worth it  ****.  positive   \n",
              "27480  All this flirting going on - The ATG smiles. Y...   neutral   \n",
              "\n",
              "      Time of Tweet Age of User      Country  Population -2020  \\\n",
              "0           morning        0-20  Afghanistan          38928346   \n",
              "1              noon       21-30      Albania           2877797   \n",
              "2             night       31-45      Algeria          43851044   \n",
              "3           morning       46-60      Andorra             77265   \n",
              "4              noon       60-70       Angola          32866272   \n",
              "...             ...         ...          ...               ...   \n",
              "27476         night       31-45        Ghana          31072940   \n",
              "27477       morning       46-60       Greece          10423054   \n",
              "27478          noon       60-70      Grenada            112523   \n",
              "27479         night      70-100    Guatemala          17915568   \n",
              "27480       morning        0-20       Guinea          13132795   \n",
              "\n",
              "       Land Area (KmÂ²)  Density (P/KmÂ²)  \n",
              "0              652860.0                60  \n",
              "1               27400.0               105  \n",
              "2             2381740.0                18  \n",
              "3                 470.0               164  \n",
              "4             1246700.0                26  \n",
              "...                 ...               ...  \n",
              "27476          227540.0               137  \n",
              "27477          128900.0                81  \n",
              "27478             340.0               331  \n",
              "27479          107160.0               167  \n",
              "27480          246000.0                53  \n",
              "\n",
              "[27481 rows x 10 columns]"
            ]
          },
          "execution_count": 3,
          "metadata": {},
          "output_type": "execute_result"
        }
      ],
      "source": [
        "# Chargement des données\n",
        "df = pd.read_csv('data.csv',encoding='latin1')\n",
        "df"
      ]
    },
    {
      "cell_type": "markdown",
      "id": "23b5452c-96eb-4749-bd83-274e0a732420",
      "metadata": {
        "id": "23b5452c-96eb-4749-bd83-274e0a732420"
      },
      "source": [
        "Le jeu de données contient, en plus du tweet et de son étiquette (positif/négatif/neutre), beaucoup d'informations supplémentaires comme l'âge et le pays de l'utilisateur, ainsi que l'heure de la journée à laquelle le tweet a été écrit. Dans ce TP, nous n'utiliserons que le texte.\n",
        "\n",
        "Notre but va être de prédire l'étiquette d'un tweet à partir de son texte. Il s'agit donc à nouveau d'un problème de **classification**.\n",
        "\n",
        "Comme la dernière fois, la première étape consiste à transformer les étiquettes en probabilités. Nous avons à nouveau 3 types d'étiquettes possible, donc 3 probabilités pour chaque point de données."
      ]
    },
    {
      "cell_type": "code",
      "execution_count": null,
      "id": "b69ce55a-0bdf-4888-b655-dac5d9eb996a",
      "metadata": {
        "scrolled": true,
        "id": "b69ce55a-0bdf-4888-b655-dac5d9eb996a",
        "outputId": "a6628822-c519-4d93-e719-054fdc4dc4da"
      },
      "outputs": [
        {
          "data": {
            "text/plain": [
              "array([[0., 1., 0.],\n",
              "       [1., 0., 0.],\n",
              "       [1., 0., 0.],\n",
              "       ...,\n",
              "       [0., 0., 1.],\n",
              "       [0., 0., 1.],\n",
              "       [0., 1., 0.]])"
            ]
          },
          "execution_count": 4,
          "metadata": {},
          "output_type": "execute_result"
        }
      ],
      "source": [
        "# On garde uniquement les deux colonnes qui nous intéressent, et on se débarrasse des lignes contenant des champs vides (N/A)\n",
        "df = df[['text', 'sentiment']].dropna()\n",
        "\n",
        "enc = OneHotEncoder(sparse_output=False)\n",
        "labels = enc.fit_transform(df['sentiment'].values.reshape(-1, 1))\n",
        "labels"
      ]
    },
    {
      "cell_type": "markdown",
      "id": "be7009f8-937c-4838-bdf6-fc4c56739113",
      "metadata": {
        "id": "be7009f8-937c-4838-bdf6-fc4c56739113"
      },
      "source": [
        "Il nous faut désormais transformer le texte de chaque tweet en données numériques. Beaucoup d'approches sont possibles pour cela, dont en voici certaines :\n",
        "- L'encodage 1 parmi n (vu précédemment), qui transforme chaque mot en une liste de zéros contenant un seul 1 à une position correspondant au mot\n",
        "- La TF-IDF, qui transforme un texte en une liste de fréquences relatives de mots\n",
        "- Les plongements sémantiques (*embedding*), qui transforme chaque mot du texte initial en une liste de nombres calibrée de manière à représenter le sens du mot\n",
        "\n",
        "Nous allons dans un premier temps nous focaliser sur la TF-IDF.\n",
        "\n",
        "# TF-IDF\n",
        "\n",
        "La [TF-IDF](https://fr.wikipedia.org/wiki/TF-IDF) (term frequency/inverse document frequency) est une métrique qui associe à un document (texte) et à un mot donné un score d'importance compris entre 0 et 1. Nous ne nous attarderons pas sur sa formulation mathématique au cours de ce TP, mais elle utilise les principes suivants :\n",
        "- Si un mot est fréquent dans un document mais dans peu d'autres documents, alors ce mot est spécifique à ce document et a un score élevé\n",
        "- Si un mot est fréquent dans un grand nombre de documents, alors ce mot est commun et son score est plus faible.\n",
        "\n",
        "La librairie `scikit-learn` contient un outil permettant de générer automatiquement la TF-IDF d'un ensemble de documents; elle s'occupe de diviser chaque document en mot, puis calcule le score de chaque mot."
      ]
    },
    {
      "cell_type": "code",
      "execution_count": null,
      "id": "862b37ec-bde9-46fd-958c-82839fb1baa4",
      "metadata": {
        "scrolled": true,
        "id": "862b37ec-bde9-46fd-958c-82839fb1baa4"
      },
      "outputs": [],
      "source": [
        "from sklearn.feature_extraction.text import TfidfVectorizer\n",
        "vectorization = TfidfVectorizer()\n",
        "\n",
        "# Calcule la TF-IDF de chaque mot dans chaque texte\n",
        "tfidf = vectorization.fit_transform(df['text'])"
      ]
    },
    {
      "cell_type": "markdown",
      "id": "b3a76789-3459-46e1-975b-72abaa340515",
      "metadata": {
        "id": "b3a76789-3459-46e1-975b-72abaa340515"
      },
      "source": [
        "La matrice `tfidf` contient désormais en position (i, j) la TF-IDF du mot numéro `j` dans le document numéro `i`.\n",
        "Les numéros associés à chaque mot peuvent être lus en accèdant au dictionnaire `vectorization.vocabulary_`.\n",
        "\n",
        "**À noter :** Par défault, `TfidfVectorizer` transforme tout le texte en minuscule et ignore une partie de la ponctuation.\n",
        "\n",
        "Par exemple :"
      ]
    },
    {
      "cell_type": "code",
      "execution_count": null,
      "id": "44713ab7-653e-4eb3-a778-3045eeda9d98",
      "metadata": {
        "id": "44713ab7-653e-4eb3-a778-3045eeda9d98",
        "outputId": "94b1359f-f86e-4da4-db1a-6d3b26ed01b6"
      },
      "outputs": [
        {
          "name": "stdout",
          "output_type": "stream",
          "text": [
            "Document :  Sooo SAD I will miss you here in San Diego!!!\n",
            "TF-IDF pour \"in\" :    0.17777792095205294\n",
            "TF-IDF pour \"diego\" : 0.5082417098880176\n",
            "TF-IDF pour \"dog\" :   0.0\n"
          ]
        }
      ],
      "source": [
        "num_doc = 1\n",
        "print('Document :', df['text'][num_doc])\n",
        "\n",
        "num_mot = vectorization.vocabulary_['in']\n",
        "print('TF-IDF pour \"in\" :   ', tfidf[num_doc, num_mot])\n",
        "\n",
        "num_mot = vectorization.vocabulary_['diego']\n",
        "print('TF-IDF pour \"diego\" :', tfidf[num_doc, num_mot])\n",
        "\n",
        "num_mot = vectorization.vocabulary_['dog']\n",
        "print('TF-IDF pour \"dog\" :  ', tfidf[num_doc, num_mot])\n"
      ]
    },
    {
      "cell_type": "markdown",
      "id": "23e3a801-7ba9-4771-ac12-489c8ebb7816",
      "metadata": {
        "id": "23e3a801-7ba9-4771-ac12-489c8ebb7816"
      },
      "source": [
        "### Séparation et mélange\n",
        "\n",
        "On rappelle qu'en apprentissage machine, il est important de séparer ses données en trois jeux :\n",
        "- Le jeu d'entraînement, servant à entraîner les modèles,\n",
        "- Le jeu de validation, qui sert à mesurer les performances des divers modèles que nous allons entraîner et à les comparer\n",
        "- Le jeu de test, qui sert à mesurer les performances finales (vraies) du modèle retenu.\n",
        "\n",
        "Nous pouvons réaliser la séparation grâce à la fonction `train_test_split`, comme au TP 1.\n",
        "\n",
        "En général, on choisit de garder la majorité des données pour l'entraînement, et autant de données pour la validation que pour le test. Les ratios les plus couramment utilisés pour les trois jeux sont 60%-20%-20%, 80%-10%-10% et 90%-5%-5%."
      ]
    },
    {
      "cell_type": "code",
      "execution_count": null,
      "id": "bbb41d21-2a85-41e0-a192-add1982c886b",
      "metadata": {
        "id": "bbb41d21-2a85-41e0-a192-add1982c886b",
        "outputId": "e90931f0-2b64-4d82-e164-ba793ec34137"
      },
      "outputs": [
        {
          "name": "stdout",
          "output_type": "stream",
          "text": [
            "(21984, 26397)\n",
            "(21984, 3)\n",
            "(2748, 26397)\n",
            "(2748, 3)\n",
            "(2748, 26397)\n",
            "(2748, 3)\n"
          ]
        }
      ],
      "source": [
        "train_frac = 0.8\n",
        "valid_frac = 0.1\n",
        "test_frac = 0.1\n",
        "\n",
        "# On sépare d'abord le jeu d'entraînement du reste\n",
        "X_train, X_2, y_train, y_2 = train_test_split(tfidf, labels, test_size=valid_frac + test_frac, shuffle=True, random_state=seed)\n",
        "# Puis on sépare le reste en deux (validation et test)\n",
        "X_valid, X_test, y_valid, y_test = train_test_split(X_2, y_2, test_size=test_frac/(test_frac + valid_frac), shuffle=True, random_state=seed)\n",
        "\n",
        "print(X_train.shape)\n",
        "print(y_train.shape)\n",
        "\n",
        "print(X_valid.shape)\n",
        "print(y_valid.shape)\n",
        "\n",
        "print(X_test.shape)\n",
        "print(y_test.shape)"
      ]
    },
    {
      "cell_type": "markdown",
      "id": "fb6e2d8c-42e2-4912-9cc5-c35fe12ee441",
      "metadata": {
        "id": "fb6e2d8c-42e2-4912-9cc5-c35fe12ee441"
      },
      "source": [
        "Le nombre 26 397 correspond au nombre de mots uniques présents dans la matrice TF-IDF après la vectorisation des textes."
      ]
    },
    {
      "cell_type": "markdown",
      "id": "8c14d2ea-1a62-4b23-a803-6b41b1834326",
      "metadata": {
        "id": "8c14d2ea-1a62-4b23-a803-6b41b1834326"
      },
      "source": [
        "# Réseau de neurones\n",
        "\n",
        "Comme au premier TP, nous allons commencer par créer un réseau de neurones à une couche (entrée -> sortie).\n",
        "\n",
        "En plus de cela, notre réseau de neurones utilisera les éléments suivants :\n",
        "- Fonction d'activation : Softmax (utilisée dans le cas d'une classification à plus de deux classes, alors que la sigmoïde est plutôt utilisée dans le cas à deux classes)\n",
        "- Fonction de coût : Entropie croisée (utilisée en classification)\n",
        "\n",
        "Enfin, pour effectuer la descente de gradient, diverses méthodes existent. La méthode que nous avons utilisée la dernière fois est la plus simple, mais elle n'est pas très efficace. Beaucoup d'autres méthodes plus complexes existent, faisant par exemple varier le taux d'apprentissage au cours du temps (*momentum*) ou en gardant en mémoire un taux d'apprentissage différent pour chaque poids du réseau, par exemple. La composante qui s'occupe de gérer cette partie s'appelle un *optimiseur*. Nous utiliserons ici l'optimiseur [Adam](https://en.wikipedia.org/wiki/Stochastic_gradient_descent#Adam).\n",
        "\n",
        "Par chance, Keras rend l'implémentation de tout ceci extrêmement simple :"
      ]
    },
    {
      "cell_type": "code",
      "execution_count": null,
      "id": "115e802c-b7f7-448e-aac7-bac5205ec156",
      "metadata": {
        "id": "115e802c-b7f7-448e-aac7-bac5205ec156",
        "outputId": "44b1ca91-51c1-482f-9ced-7e650d2af004"
      },
      "outputs": [
        {
          "name": "stdout",
          "output_type": "stream",
          "text": [
            "Epoch 1/30\n",
            "\u001b[1m687/687\u001b[0m \u001b[32m━━━━━━━━━━━━━━━━━━━━\u001b[0m\u001b[37m\u001b[0m \u001b[1m6s\u001b[0m 8ms/step - accuracy: 0.4324 - loss: 1.0730 - val_accuracy: 0.4924 - val_loss: 1.0143\n",
            "Epoch 2/30\n",
            "\u001b[1m687/687\u001b[0m \u001b[32m━━━━━━━━━━━━━━━━━━━━\u001b[0m\u001b[37m\u001b[0m \u001b[1m4s\u001b[0m 6ms/step - accuracy: 0.5379 - loss: 0.9856 - val_accuracy: 0.5797 - val_loss: 0.9592\n",
            "Epoch 3/30\n",
            "\u001b[1m687/687\u001b[0m \u001b[32m━━━━━━━━━━━━━━━━━━━━\u001b[0m\u001b[37m\u001b[0m \u001b[1m3s\u001b[0m 5ms/step - accuracy: 0.6346 - loss: 0.9158 - val_accuracy: 0.6099 - val_loss: 0.9174\n",
            "Epoch 4/30\n",
            "\u001b[1m687/687\u001b[0m \u001b[32m━━━━━━━━━━━━━━━━━━━━\u001b[0m\u001b[37m\u001b[0m \u001b[1m4s\u001b[0m 5ms/step - accuracy: 0.6881 - loss: 0.8586 - val_accuracy: 0.6328 - val_loss: 0.8850\n",
            "Epoch 5/30\n",
            "\u001b[1m687/687\u001b[0m \u001b[32m━━━━━━━━━━━━━━━━━━━━\u001b[0m\u001b[37m\u001b[0m \u001b[1m3s\u001b[0m 5ms/step - accuracy: 0.7230 - loss: 0.8107 - val_accuracy: 0.6452 - val_loss: 0.8591\n",
            "Epoch 6/30\n",
            "\u001b[1m687/687\u001b[0m \u001b[32m━━━━━━━━━━━━━━━━━━━━\u001b[0m\u001b[37m\u001b[0m \u001b[1m3s\u001b[0m 5ms/step - accuracy: 0.7469 - loss: 0.7699 - val_accuracy: 0.6565 - val_loss: 0.8381\n",
            "Epoch 7/30\n",
            "\u001b[1m687/687\u001b[0m \u001b[32m━━━━━━━━━━━━━━━━━━━━\u001b[0m\u001b[37m\u001b[0m \u001b[1m3s\u001b[0m 5ms/step - accuracy: 0.7650 - loss: 0.7346 - val_accuracy: 0.6612 - val_loss: 0.8209\n",
            "Epoch 8/30\n",
            "\u001b[1m687/687\u001b[0m \u001b[32m━━━━━━━━━━━━━━━━━━━━\u001b[0m\u001b[37m\u001b[0m \u001b[1m3s\u001b[0m 5ms/step - accuracy: 0.7801 - loss: 0.7035 - val_accuracy: 0.6648 - val_loss: 0.8066\n",
            "Epoch 9/30\n",
            "\u001b[1m687/687\u001b[0m \u001b[32m━━━━━━━━━━━━━━━━━━━━\u001b[0m\u001b[37m\u001b[0m \u001b[1m3s\u001b[0m 5ms/step - accuracy: 0.7912 - loss: 0.6759 - val_accuracy: 0.6663 - val_loss: 0.7946\n",
            "Epoch 10/30\n",
            "\u001b[1m687/687\u001b[0m \u001b[32m━━━━━━━━━━━━━━━━━━━━\u001b[0m\u001b[37m\u001b[0m \u001b[1m3s\u001b[0m 5ms/step - accuracy: 0.8004 - loss: 0.6511 - val_accuracy: 0.6663 - val_loss: 0.7846\n",
            "Epoch 11/30\n",
            "\u001b[1m687/687\u001b[0m \u001b[32m━━━━━━━━━━━━━━━━━━━━\u001b[0m\u001b[37m\u001b[0m \u001b[1m3s\u001b[0m 4ms/step - accuracy: 0.8101 - loss: 0.6287 - val_accuracy: 0.6692 - val_loss: 0.7762\n",
            "Epoch 12/30\n",
            "\u001b[1m687/687\u001b[0m \u001b[32m━━━━━━━━━━━━━━━━━━━━\u001b[0m\u001b[37m\u001b[0m \u001b[1m4s\u001b[0m 5ms/step - accuracy: 0.8192 - loss: 0.6083 - val_accuracy: 0.6721 - val_loss: 0.7690\n",
            "Epoch 13/30\n",
            "\u001b[1m687/687\u001b[0m \u001b[32m━━━━━━━━━━━━━━━━━━━━\u001b[0m\u001b[37m\u001b[0m \u001b[1m3s\u001b[0m 5ms/step - accuracy: 0.8255 - loss: 0.5896 - val_accuracy: 0.6739 - val_loss: 0.7630\n",
            "Epoch 14/30\n",
            "\u001b[1m687/687\u001b[0m \u001b[32m━━━━━━━━━━━━━━━━━━━━\u001b[0m\u001b[37m\u001b[0m \u001b[1m3s\u001b[0m 5ms/step - accuracy: 0.8325 - loss: 0.5723 - val_accuracy: 0.6779 - val_loss: 0.7578\n",
            "Epoch 15/30\n",
            "\u001b[1m687/687\u001b[0m \u001b[32m━━━━━━━━━━━━━━━━━━━━\u001b[0m\u001b[37m\u001b[0m \u001b[1m3s\u001b[0m 5ms/step - accuracy: 0.8383 - loss: 0.5564 - val_accuracy: 0.6801 - val_loss: 0.7535\n",
            "Epoch 16/30\n",
            "\u001b[1m687/687\u001b[0m \u001b[32m━━━━━━━━━━━━━━━━━━━━\u001b[0m\u001b[37m\u001b[0m \u001b[1m3s\u001b[0m 5ms/step - accuracy: 0.8433 - loss: 0.5415 - val_accuracy: 0.6827 - val_loss: 0.7499\n",
            "Epoch 17/30\n",
            "\u001b[1m687/687\u001b[0m \u001b[32m━━━━━━━━━━━━━━━━━━━━\u001b[0m\u001b[37m\u001b[0m \u001b[1m3s\u001b[0m 4ms/step - accuracy: 0.8486 - loss: 0.5275 - val_accuracy: 0.6816 - val_loss: 0.7468\n",
            "Epoch 18/30\n",
            "\u001b[1m687/687\u001b[0m \u001b[32m━━━━━━━━━━━━━━━━━━━━\u001b[0m\u001b[37m\u001b[0m \u001b[1m3s\u001b[0m 5ms/step - accuracy: 0.8535 - loss: 0.5145 - val_accuracy: 0.6787 - val_loss: 0.7443\n",
            "Epoch 19/30\n",
            "\u001b[1m687/687\u001b[0m \u001b[32m━━━━━━━━━━━━━━━━━━━━\u001b[0m\u001b[37m\u001b[0m \u001b[1m3s\u001b[0m 4ms/step - accuracy: 0.8575 - loss: 0.5022 - val_accuracy: 0.6779 - val_loss: 0.7422\n",
            "Epoch 20/30\n",
            "\u001b[1m687/687\u001b[0m \u001b[32m━━━━━━━━━━━━━━━━━━━━\u001b[0m\u001b[37m\u001b[0m \u001b[1m3s\u001b[0m 4ms/step - accuracy: 0.8612 - loss: 0.4906 - val_accuracy: 0.6779 - val_loss: 0.7405\n",
            "Epoch 21/30\n",
            "\u001b[1m687/687\u001b[0m \u001b[32m━━━━━━━━━━━━━━━━━━━━\u001b[0m\u001b[37m\u001b[0m \u001b[1m3s\u001b[0m 4ms/step - accuracy: 0.8644 - loss: 0.4796 - val_accuracy: 0.6787 - val_loss: 0.7391\n",
            "Epoch 22/30\n",
            "\u001b[1m687/687\u001b[0m \u001b[32m━━━━━━━━━━━━━━━━━━━━\u001b[0m\u001b[37m\u001b[0m \u001b[1m3s\u001b[0m 4ms/step - accuracy: 0.8677 - loss: 0.4692 - val_accuracy: 0.6783 - val_loss: 0.7381\n",
            "Epoch 23/30\n",
            "\u001b[1m687/687\u001b[0m \u001b[32m━━━━━━━━━━━━━━━━━━━━\u001b[0m\u001b[37m\u001b[0m \u001b[1m3s\u001b[0m 4ms/step - accuracy: 0.8711 - loss: 0.4593 - val_accuracy: 0.6776 - val_loss: 0.7374\n",
            "Epoch 24/30\n",
            "\u001b[1m687/687\u001b[0m \u001b[32m━━━━━━━━━━━━━━━━━━━━\u001b[0m\u001b[37m\u001b[0m \u001b[1m3s\u001b[0m 4ms/step - accuracy: 0.8741 - loss: 0.4498 - val_accuracy: 0.6765 - val_loss: 0.7369\n",
            "Epoch 25/30\n",
            "\u001b[1m687/687\u001b[0m \u001b[32m━━━━━━━━━━━━━━━━━━━━\u001b[0m\u001b[37m\u001b[0m \u001b[1m3s\u001b[0m 5ms/step - accuracy: 0.8780 - loss: 0.4408 - val_accuracy: 0.6754 - val_loss: 0.7366\n",
            "Epoch 26/30\n",
            "\u001b[1m687/687\u001b[0m \u001b[32m━━━━━━━━━━━━━━━━━━━━\u001b[0m\u001b[37m\u001b[0m \u001b[1m3s\u001b[0m 4ms/step - accuracy: 0.8826 - loss: 0.4322 - val_accuracy: 0.6754 - val_loss: 0.7366\n",
            "Epoch 27/30\n",
            "\u001b[1m687/687\u001b[0m \u001b[32m━━━━━━━━━━━━━━━━━━━━\u001b[0m\u001b[37m\u001b[0m \u001b[1m3s\u001b[0m 4ms/step - accuracy: 0.8854 - loss: 0.4240 - val_accuracy: 0.6739 - val_loss: 0.7367\n",
            "Epoch 28/30\n",
            "\u001b[1m687/687\u001b[0m \u001b[32m━━━━━━━━━━━━━━━━━━━━\u001b[0m\u001b[37m\u001b[0m \u001b[1m3s\u001b[0m 4ms/step - accuracy: 0.8888 - loss: 0.4161 - val_accuracy: 0.6739 - val_loss: 0.7371\n",
            "Epoch 29/30\n",
            "\u001b[1m687/687\u001b[0m \u001b[32m━━━━━━━━━━━━━━━━━━━━\u001b[0m\u001b[37m\u001b[0m \u001b[1m3s\u001b[0m 5ms/step - accuracy: 0.8909 - loss: 0.4085 - val_accuracy: 0.6732 - val_loss: 0.7376\n",
            "Epoch 30/30\n",
            "\u001b[1m687/687\u001b[0m \u001b[32m━━━━━━━━━━━━━━━━━━━━\u001b[0m\u001b[37m\u001b[0m \u001b[1m3s\u001b[0m 4ms/step - accuracy: 0.8932 - loss: 0.4013 - val_accuracy: 0.6732 - val_loss: 0.7382\n"
          ]
        },
        {
          "data": {
            "text/html": [
              "<pre style=\"white-space:pre;overflow-x:auto;line-height:normal;font-family:Menlo,'DejaVu Sans Mono',consolas,'Courier New',monospace\"><span style=\"font-weight: bold\">Model: \"sequential\"</span>\n",
              "</pre>\n"
            ],
            "text/plain": [
              "\u001b[1mModel: \"sequential\"\u001b[0m\n"
            ]
          },
          "metadata": {},
          "output_type": "display_data"
        },
        {
          "data": {
            "text/html": [
              "<pre style=\"white-space:pre;overflow-x:auto;line-height:normal;font-family:Menlo,'DejaVu Sans Mono',consolas,'Courier New',monospace\">┏━━━━━━━━━━━━━━━━━━━━━━━━━━━━━━━━━┳━━━━━━━━━━━━━━━━━━━━━━━━┳━━━━━━━━━━━━━━━┓\n",
              "┃<span style=\"font-weight: bold\"> Layer (type)                    </span>┃<span style=\"font-weight: bold\"> Output Shape           </span>┃<span style=\"font-weight: bold\">       Param # </span>┃\n",
              "┡━━━━━━━━━━━━━━━━━━━━━━━━━━━━━━━━━╇━━━━━━━━━━━━━━━━━━━━━━━━╇━━━━━━━━━━━━━━━┩\n",
              "│ dense (<span style=\"color: #0087ff; text-decoration-color: #0087ff\">Dense</span>)                   │ (<span style=\"color: #00af00; text-decoration-color: #00af00\">32</span>, <span style=\"color: #00af00; text-decoration-color: #00af00\">3</span>)                │        <span style=\"color: #00af00; text-decoration-color: #00af00\">79,194</span> │\n",
              "└─────────────────────────────────┴────────────────────────┴───────────────┘\n",
              "</pre>\n"
            ],
            "text/plain": [
              "┏━━━━━━━━━━━━━━━━━━━━━━━━━━━━━━━━━┳━━━━━━━━━━━━━━━━━━━━━━━━┳━━━━━━━━━━━━━━━┓\n",
              "┃\u001b[1m \u001b[0m\u001b[1mLayer (type)                   \u001b[0m\u001b[1m \u001b[0m┃\u001b[1m \u001b[0m\u001b[1mOutput Shape          \u001b[0m\u001b[1m \u001b[0m┃\u001b[1m \u001b[0m\u001b[1m      Param #\u001b[0m\u001b[1m \u001b[0m┃\n",
              "┡━━━━━━━━━━━━━━━━━━━━━━━━━━━━━━━━━╇━━━━━━━━━━━━━━━━━━━━━━━━╇━━━━━━━━━━━━━━━┩\n",
              "│ dense (\u001b[38;5;33mDense\u001b[0m)                   │ (\u001b[38;5;34m32\u001b[0m, \u001b[38;5;34m3\u001b[0m)                │        \u001b[38;5;34m79,194\u001b[0m │\n",
              "└─────────────────────────────────┴────────────────────────┴───────────────┘\n"
            ]
          },
          "metadata": {},
          "output_type": "display_data"
        },
        {
          "data": {
            "text/html": [
              "<pre style=\"white-space:pre;overflow-x:auto;line-height:normal;font-family:Menlo,'DejaVu Sans Mono',consolas,'Courier New',monospace\"><span style=\"font-weight: bold\"> Total params: </span><span style=\"color: #00af00; text-decoration-color: #00af00\">237,584</span> (928.07 KB)\n",
              "</pre>\n"
            ],
            "text/plain": [
              "\u001b[1m Total params: \u001b[0m\u001b[38;5;34m237,584\u001b[0m (928.07 KB)\n"
            ]
          },
          "metadata": {},
          "output_type": "display_data"
        },
        {
          "data": {
            "text/html": [
              "<pre style=\"white-space:pre;overflow-x:auto;line-height:normal;font-family:Menlo,'DejaVu Sans Mono',consolas,'Courier New',monospace\"><span style=\"font-weight: bold\"> Trainable params: </span><span style=\"color: #00af00; text-decoration-color: #00af00\">79,194</span> (309.35 KB)\n",
              "</pre>\n"
            ],
            "text/plain": [
              "\u001b[1m Trainable params: \u001b[0m\u001b[38;5;34m79,194\u001b[0m (309.35 KB)\n"
            ]
          },
          "metadata": {},
          "output_type": "display_data"
        },
        {
          "data": {
            "text/html": [
              "<pre style=\"white-space:pre;overflow-x:auto;line-height:normal;font-family:Menlo,'DejaVu Sans Mono',consolas,'Courier New',monospace\"><span style=\"font-weight: bold\"> Non-trainable params: </span><span style=\"color: #00af00; text-decoration-color: #00af00\">0</span> (0.00 B)\n",
              "</pre>\n"
            ],
            "text/plain": [
              "\u001b[1m Non-trainable params: \u001b[0m\u001b[38;5;34m0\u001b[0m (0.00 B)\n"
            ]
          },
          "metadata": {},
          "output_type": "display_data"
        },
        {
          "data": {
            "text/html": [
              "<pre style=\"white-space:pre;overflow-x:auto;line-height:normal;font-family:Menlo,'DejaVu Sans Mono',consolas,'Courier New',monospace\"><span style=\"font-weight: bold\"> Optimizer params: </span><span style=\"color: #00af00; text-decoration-color: #00af00\">158,390</span> (618.71 KB)\n",
              "</pre>\n"
            ],
            "text/plain": [
              "\u001b[1m Optimizer params: \u001b[0m\u001b[38;5;34m158,390\u001b[0m (618.71 KB)\n"
            ]
          },
          "metadata": {},
          "output_type": "display_data"
        }
      ],
      "source": [
        "# Reproducibilité\n",
        "keras.utils.set_random_seed(seed)\n",
        "\n",
        "# Création d'un réseau de neurones (liste de couches)\n",
        "model = Sequential()\n",
        "\n",
        "# Ajout d'une couche simple (dense), avec 3 sorties, et utilisant le Softmax comme fonction d'application\n",
        "model.add(Dense(3, activation='softmax'))\n",
        "\n",
        "# Finalise la création du modèle en utilisant l'entropie croisée pour fonction de coût, l'optimiseur Adam et en mesurant la précision du modèle à chaque époque\n",
        "model.compile(optimizer='adam', loss='categorical_crossentropy', metrics=['accuracy'])\n",
        "\n",
        "# Entraîne le modèle pendant 30 itérations sur le jeu d'entraînement, et en mesurant la précision sur les jeux d'entraînement et de validation\n",
        "# Cet étape prend une minute environ\n",
        "history = model.fit(X_train, y_train, epochs=30, validation_data=(X_valid, y_valid))\n",
        "\n",
        "# Affiche les couches du modèles et leur nombre de poids (paramètres)\n",
        "model.summary()"
      ]
    },
    {
      "cell_type": "markdown",
      "id": "d1f7e7f6-4c27-4b54-9011-c341d5cc6cd6",
      "metadata": {
        "id": "d1f7e7f6-4c27-4b54-9011-c341d5cc6cd6"
      },
      "source": [
        "\n",
        "On peut également facilement visualiser l'évolution de la précision au cours de l'entraînement :"
      ]
    },
    {
      "cell_type": "code",
      "execution_count": null,
      "id": "d9aa7eb0-fa25-4e0b-9603-ba8f2941b786",
      "metadata": {
        "id": "d9aa7eb0-fa25-4e0b-9603-ba8f2941b786",
        "outputId": "050ad991-a8d5-49bb-d35a-a274eeea289a"
      },
      "outputs": [
        {
          "data": {
            "image/png": "[encoded data removed]",
            "text/plain": [
              "<Figure size 640x480 with 1 Axes>"
            ]
          },
          "metadata": {},
          "output_type": "display_data"
        }
      ],
      "source": [
        "def display_accuracy(history):\n",
        "    plt.plot(history.history['accuracy'], label='Précision (entraînement)')\n",
        "    plt.plot(history.history['val_accuracy'], label='Précision (validation)')\n",
        "    plt.xlabel('Itération')\n",
        "    plt.legend()\n",
        "    plt.grid()\n",
        "    plt.show()\n",
        "\n",
        "display_accuracy(history)"
      ]
    },
    {
      "cell_type": "markdown",
      "id": "2a93bc20-d2c8-45cc-9991-fb46a0005258",
      "metadata": {
        "id": "2a93bc20-d2c8-45cc-9991-fb46a0005258"
      },
      "source": [
        "On peut arrêter l'entraînement à partir de l'itération 10, la précision de validation se stabilise quand la précision d'entraînement continue d'augmenter, ce qui indique un surapprentissage.\n",
        "\n",
        "# Utilisation du réseau\n",
        "\n",
        "Faisons un test sur un exemple simple :"
      ]
    },
    {
      "cell_type": "code",
      "execution_count": null,
      "id": "29a96fac-803a-474b-8937-31145bb6a55f",
      "metadata": {
        "id": "29a96fac-803a-474b-8937-31145bb6a55f",
        "outputId": "b6b80fbb-0435-4a14-bd94-8099d381f7a6"
      },
      "outputs": [
        {
          "data": {
            "text/plain": [
              "<tf.Tensor: shape=(1, 3), dtype=float32, numpy=array([[0.71070164, 0.21318318, 0.0761151 ]], dtype=float32)>"
            ]
          },
          "execution_count": 10,
          "metadata": {},
          "output_type": "execute_result"
        }
      ],
      "source": [
        "ex_text = \"The movie was so bad, I will not recommend this movie to anyone\"\n",
        "\n",
        "ex_tfidf = vectorization.transform([ex_text])\n",
        "out = model(ex_tfidf.toarray())\n",
        "out"
      ]
    },
    {
      "cell_type": "markdown",
      "id": "8184d79b-1285-4eab-8f03-1259ebd01bf4",
      "metadata": {
        "id": "8184d79b-1285-4eab-8f03-1259ebd01bf4"
      },
      "source": [
        "Comment savoir quelle probabilité correspond à telle étiquette ? Nous pouvons regarder le contenu de l'encodeur 1 parmi n pour répondre à cette question :"
      ]
    },
    {
      "cell_type": "code",
      "execution_count": null,
      "id": "2f45bc2f-51bc-434b-8c84-9dc7b6a45abd",
      "metadata": {
        "id": "2f45bc2f-51bc-434b-8c84-9dc7b6a45abd",
        "outputId": "f5720365-1b4c-4303-8a0a-0ff2924e4b5b"
      },
      "outputs": [
        {
          "name": "stdout",
          "output_type": "stream",
          "text": [
            "[['negative']]\n",
            "[['neutral']]\n",
            "[['positive']]\n"
          ]
        }
      ],
      "source": [
        "print(enc.inverse_transform([[1, 0, 0]]))\n",
        "print(enc.inverse_transform([[0, 1, 0]]))\n",
        "print(enc.inverse_transform([[0, 0, 1]]))"
      ]
    },
    {
      "cell_type": "markdown",
      "id": "e29f2685-8c1a-4c1f-83d8-3ff552be3da1",
      "metadata": {
        "id": "e29f2685-8c1a-4c1f-83d8-3ff552be3da1"
      },
      "source": [
        "La première probabilité correspond donc à l'étiquette négative, la deuxième à la neutre et la dernière à la positive. Créons une fonction pour automatiser tout cela :"
      ]
    },
    {
      "cell_type": "code",
      "execution_count": null,
      "id": "fb8811d7-18a4-4835-b8b2-68e473815cb2",
      "metadata": {
        "id": "fb8811d7-18a4-4835-b8b2-68e473815cb2",
        "outputId": "c38a86a2-4959-4665-ade7-b8b979213723"
      },
      "outputs": [
        {
          "name": "stdout",
          "output_type": "stream",
          "text": [
            "I feel sad today -> negative\n",
            "I love my mom -> positive\n",
            "Today is Tuesday -> neutral\n",
            "Good riddance! -> positive\n"
          ]
        }
      ],
      "source": [
        "def get_label(pos):\n",
        "    label = [0, 0, 0]\n",
        "    label[pos] = 1\n",
        "    return enc.inverse_transform([label])[0][0]\n",
        "\n",
        "def predict(ex_text, model, display=True):\n",
        "    ex_tfidf = vectorization.transform([ex_text])\n",
        "    out = model(ex_tfidf.toarray())\n",
        "    out = out.numpy()\n",
        "    sentiment = get_label(out.argmax())\n",
        "    if display:\n",
        "        return ex_text + ' -> ' + sentiment\n",
        "    return sentiment\n",
        "\n",
        "print(predict(\"I feel sad today\", model))\n",
        "print(predict(\"I love my mom\", model))\n",
        "print(predict(\"Today is Tuesday\", model))\n",
        "print(predict(\"Good riddance!\", model))  # <- Erreur de classification"
      ]
    },
    {
      "cell_type": "markdown",
      "id": "3049cd98-7996-4a5a-af73-fe6df27dcd72",
      "metadata": {
        "id": "3049cd98-7996-4a5a-af73-fe6df27dcd72"
      },
      "source": [
        "Comme ce réseau ne contient qu'une seule couche, on peut considérer qu'il attribue en fait un poids positif ou négatif à chaque mot du vocabulaire pour chaque étiquette possible, et qu'il calcule ensuite la somme des poids des mots contenus dans un texte, pondérés par la TF-IDF du mot donné.\n",
        "\n",
        "On peut d'ailleurs observer ces poids directement dans le modèle :"
      ]
    },
    {
      "cell_type": "code",
      "execution_count": null,
      "id": "b248b272-a721-4e33-94a5-468376a0b29b",
      "metadata": {
        "id": "b248b272-a721-4e33-94a5-468376a0b29b",
        "outputId": "717e0912-c73c-4e06-9b3b-26ddb6c1a808"
      },
      "outputs": [
        {
          "name": "stdout",
          "output_type": "stream",
          "text": [
            "Poids pour le mot [angry]:\n",
            "negative   1.4262075424194336\n",
            "neutral    -1.0276778936386108\n",
            "positive   -2.008281707763672\n"
          ]
        }
      ],
      "source": [
        "mot = \"angry\"\n",
        "num_mot = vectorization.transform([mot]).argmax()\n",
        "weights = model.layers[0].get_weights()[0][num_mot]\n",
        "print(f\"Poids pour le mot [{mot}]:\")\n",
        "for i, weight in enumerate(weights):\n",
        "    print(f\"{get_label(i):<10} {weight}\")"
      ]
    },
    {
      "cell_type": "markdown",
      "id": "e7642ac1-e629-4d2b-9292-b6b81e73f775",
      "metadata": {
        "id": "e7642ac1-e629-4d2b-9292-b6b81e73f775"
      },
      "source": [
        "# 2 couches et plus\n",
        "\n",
        "Globalement, le modèle obtenu fonctionne plutôt bien. Cependant, le score de précision nous indique que près d'un tiers de ses prédictions sont erronnées. Nous aimerions l'améliorer, en lui permettant de faire des calculs plus complexes qu'une simple somme de poids. Pour cela, nous allons transformer notre perceptron en **perceptron multicouche** (MLP, *multilayer perceptron*). Il s'agit tout simplement de plusieurs perceptrons simples mis bout à bout :\n",
        "\n",
        "<div><img src=\"img/mlp.png\" width=\"500\"/></div>\n",
        "\n",
        "L'intérêt d'avoir plusieurs couches est que le réseau peut faire des opérations plus complexes : Si un simple perceptron à une couche lui permettait de faire une somme pondérée des scores des mots, ajouter une autre couche lui permet par exemple de calculer des sous-scores correspondant à certaines catégories de mots. D'ailleurs, un [théorème]([https://fr.wikipedia.org/wiki/Th%C3%A9or%C3%A8me_d%27approximation_universelle) dit qu'un réseau de neurones possédant deux couches suffisamment grandes (une couche cachée et une couche de sortie) est en théorie capable d'apprendre n'importe quelle fonction ! En pratique, les réseaux ont souvent plus de deux couches, mais qui sont moins grandes.\n",
        "\n",
        "Savoir quelle fonction d'activation, combien de couches et quelle taille de couche utiliser est difficile; en pratique, même si quelques guides généraux existent, il s'agit surtout de tester différentes valeurs et de regarder ce qui marche le mieux...\n",
        "\n",
        "On notera toutefois que pour les couches cachées, un principe général est d'utiliser une taille qui soit une puissance de 2 (2, 4, 8, 16, 32 etc. neurones).\n",
        "\n",
        "Rajouter des couches se fait très simplement avec Keras, il suffit de définir leur fonction d'activation. Pour les couches intermédiaires d'un réseau de neurones, plusieurs fonctions d'activation existent, donc les plus courantes sont `relu`, `sigmoid` et `tanh`.\n",
        "\n",
        "Un exemple à deux couches :"
      ]
    },
    {
      "cell_type": "code",
      "execution_count": null,
      "id": "7221ff82-f219-4a06-9a5f-d14e02096805",
      "metadata": {
        "id": "7221ff82-f219-4a06-9a5f-d14e02096805",
        "outputId": "240390fa-7174-4231-8863-49152bc39e5f"
      },
      "outputs": [
        {
          "name": "stdout",
          "output_type": "stream",
          "text": [
            "Epoch 1/10\n",
            "\u001b[1m687/687\u001b[0m \u001b[32m━━━━━━━━━━━━━━━━━━━━\u001b[0m\u001b[37m\u001b[0m \u001b[1m8s\u001b[0m 10ms/step - accuracy: 0.3935 - loss: 1.0797 - val_accuracy: 0.4469 - val_loss: 1.0371\n",
            "Epoch 2/10\n",
            "\u001b[1m687/687\u001b[0m \u001b[32m━━━━━━━━━━━━━━━━━━━━\u001b[0m\u001b[37m\u001b[0m \u001b[1m6s\u001b[0m 9ms/step - accuracy: 0.4990 - loss: 1.0065 - val_accuracy: 0.5848 - val_loss: 0.9482\n",
            "Epoch 3/10\n",
            "\u001b[1m687/687\u001b[0m \u001b[32m━━━━━━━━━━━━━━━━━━━━\u001b[0m\u001b[37m\u001b[0m \u001b[1m6s\u001b[0m 9ms/step - accuracy: 0.6609 - loss: 0.8867 - val_accuracy: 0.6412 - val_loss: 0.8509\n",
            "Epoch 4/10\n",
            "\u001b[1m687/687\u001b[0m \u001b[32m━━━━━━━━━━━━━━━━━━━━\u001b[0m\u001b[37m\u001b[0m \u001b[1m6s\u001b[0m 9ms/step - accuracy: 0.7382 - loss: 0.7581 - val_accuracy: 0.6619 - val_loss: 0.7843\n",
            "Epoch 5/10\n",
            "\u001b[1m687/687\u001b[0m \u001b[32m━━━━━━━━━━━━━━━━━━━━\u001b[0m\u001b[37m\u001b[0m \u001b[1m6s\u001b[0m 9ms/step - accuracy: 0.7760 - loss: 0.6552 - val_accuracy: 0.6754 - val_loss: 0.7458\n",
            "Epoch 6/10\n",
            "\u001b[1m687/687\u001b[0m \u001b[32m━━━━━━━━━━━━━━━━━━━━\u001b[0m\u001b[37m\u001b[0m \u001b[1m6s\u001b[0m 9ms/step - accuracy: 0.8064 - loss: 0.5766 - val_accuracy: 0.6830 - val_loss: 0.7255\n",
            "Epoch 7/10\n",
            "\u001b[1m687/687\u001b[0m \u001b[32m━━━━━━━━━━━━━━━━━━━━\u001b[0m\u001b[37m\u001b[0m \u001b[1m6s\u001b[0m 9ms/step - accuracy: 0.8301 - loss: 0.5148 - val_accuracy: 0.6852 - val_loss: 0.7166\n",
            "Epoch 8/10\n",
            "\u001b[1m687/687\u001b[0m \u001b[32m━━━━━━━━━━━━━━━━━━━━\u001b[0m\u001b[37m\u001b[0m \u001b[1m6s\u001b[0m 9ms/step - accuracy: 0.8479 - loss: 0.4643 - val_accuracy: 0.6856 - val_loss: 0.7152\n",
            "Epoch 9/10\n",
            "\u001b[1m687/687\u001b[0m \u001b[32m━━━━━━━━━━━━━━━━━━━━\u001b[0m\u001b[37m\u001b[0m \u001b[1m6s\u001b[0m 9ms/step - accuracy: 0.8633 - loss: 0.4219 - val_accuracy: 0.6856 - val_loss: 0.7190\n",
            "Epoch 10/10\n",
            "\u001b[1m687/687\u001b[0m \u001b[32m━━━━━━━━━━━━━━━━━━━━\u001b[0m\u001b[37m\u001b[0m \u001b[1m6s\u001b[0m 9ms/step - accuracy: 0.8777 - loss: 0.3854 - val_accuracy: 0.6881 - val_loss: 0.7267\n"
          ]
        },
        {
          "data": {
            "text/html": [
              "<pre style=\"white-space:pre;overflow-x:auto;line-height:normal;font-family:Menlo,'DejaVu Sans Mono',consolas,'Courier New',monospace\"><span style=\"font-weight: bold\">Model: \"sequential_1\"</span>\n",
              "</pre>\n"
            ],
            "text/plain": [
              "\u001b[1mModel: \"sequential_1\"\u001b[0m\n"
            ]
          },
          "metadata": {},
          "output_type": "display_data"
        },
        {
          "data": {
            "text/html": [
              "<pre style=\"white-space:pre;overflow-x:auto;line-height:normal;font-family:Menlo,'DejaVu Sans Mono',consolas,'Courier New',monospace\">┏━━━━━━━━━━━━━━━━━━━━━━━━━━━━━━━━━┳━━━━━━━━━━━━━━━━━━━━━━━━┳━━━━━━━━━━━━━━━┓\n",
              "┃<span style=\"font-weight: bold\"> Layer (type)                    </span>┃<span style=\"font-weight: bold\"> Output Shape           </span>┃<span style=\"font-weight: bold\">       Param # </span>┃\n",
              "┡━━━━━━━━━━━━━━━━━━━━━━━━━━━━━━━━━╇━━━━━━━━━━━━━━━━━━━━━━━━╇━━━━━━━━━━━━━━━┩\n",
              "│ dense_1 (<span style=\"color: #0087ff; text-decoration-color: #0087ff\">Dense</span>)                 │ (<span style=\"color: #00af00; text-decoration-color: #00af00\">32</span>, <span style=\"color: #00af00; text-decoration-color: #00af00\">16</span>)               │       <span style=\"color: #00af00; text-decoration-color: #00af00\">422,368</span> │\n",
              "├─────────────────────────────────┼────────────────────────┼───────────────┤\n",
              "│ dense_2 (<span style=\"color: #0087ff; text-decoration-color: #0087ff\">Dense</span>)                 │ (<span style=\"color: #00af00; text-decoration-color: #00af00\">32</span>, <span style=\"color: #00af00; text-decoration-color: #00af00\">3</span>)                │            <span style=\"color: #00af00; text-decoration-color: #00af00\">51</span> │\n",
              "└─────────────────────────────────┴────────────────────────┴───────────────┘\n",
              "</pre>\n"
            ],
            "text/plain": [
              "┏━━━━━━━━━━━━━━━━━━━━━━━━━━━━━━━━━┳━━━━━━━━━━━━━━━━━━━━━━━━┳━━━━━━━━━━━━━━━┓\n",
              "┃\u001b[1m \u001b[0m\u001b[1mLayer (type)                   \u001b[0m\u001b[1m \u001b[0m┃\u001b[1m \u001b[0m\u001b[1mOutput Shape          \u001b[0m\u001b[1m \u001b[0m┃\u001b[1m \u001b[0m\u001b[1m      Param #\u001b[0m\u001b[1m \u001b[0m┃\n",
              "┡━━━━━━━━━━━━━━━━━━━━━━━━━━━━━━━━━╇━━━━━━━━━━━━━━━━━━━━━━━━╇━━━━━━━━━━━━━━━┩\n",
              "│ dense_1 (\u001b[38;5;33mDense\u001b[0m)                 │ (\u001b[38;5;34m32\u001b[0m, \u001b[38;5;34m16\u001b[0m)               │       \u001b[38;5;34m422,368\u001b[0m │\n",
              "├─────────────────────────────────┼────────────────────────┼───────────────┤\n",
              "│ dense_2 (\u001b[38;5;33mDense\u001b[0m)                 │ (\u001b[38;5;34m32\u001b[0m, \u001b[38;5;34m3\u001b[0m)                │            \u001b[38;5;34m51\u001b[0m │\n",
              "└─────────────────────────────────┴────────────────────────┴───────────────┘\n"
            ]
          },
          "metadata": {},
          "output_type": "display_data"
        },
        {
          "data": {
            "text/html": [
              "<pre style=\"white-space:pre;overflow-x:auto;line-height:normal;font-family:Menlo,'DejaVu Sans Mono',consolas,'Courier New',monospace\"><span style=\"font-weight: bold\"> Total params: </span><span style=\"color: #00af00; text-decoration-color: #00af00\">1,267,259</span> (4.83 MB)\n",
              "</pre>\n"
            ],
            "text/plain": [
              "\u001b[1m Total params: \u001b[0m\u001b[38;5;34m1,267,259\u001b[0m (4.83 MB)\n"
            ]
          },
          "metadata": {},
          "output_type": "display_data"
        },
        {
          "data": {
            "text/html": [
              "<pre style=\"white-space:pre;overflow-x:auto;line-height:normal;font-family:Menlo,'DejaVu Sans Mono',consolas,'Courier New',monospace\"><span style=\"font-weight: bold\"> Trainable params: </span><span style=\"color: #00af00; text-decoration-color: #00af00\">422,419</span> (1.61 MB)\n",
              "</pre>\n"
            ],
            "text/plain": [
              "\u001b[1m Trainable params: \u001b[0m\u001b[38;5;34m422,419\u001b[0m (1.61 MB)\n"
            ]
          },
          "metadata": {},
          "output_type": "display_data"
        },
        {
          "data": {
            "text/html": [
              "<pre style=\"white-space:pre;overflow-x:auto;line-height:normal;font-family:Menlo,'DejaVu Sans Mono',consolas,'Courier New',monospace\"><span style=\"font-weight: bold\"> Non-trainable params: </span><span style=\"color: #00af00; text-decoration-color: #00af00\">0</span> (0.00 B)\n",
              "</pre>\n"
            ],
            "text/plain": [
              "\u001b[1m Non-trainable params: \u001b[0m\u001b[38;5;34m0\u001b[0m (0.00 B)\n"
            ]
          },
          "metadata": {},
          "output_type": "display_data"
        },
        {
          "data": {
            "text/html": [
              "<pre style=\"white-space:pre;overflow-x:auto;line-height:normal;font-family:Menlo,'DejaVu Sans Mono',consolas,'Courier New',monospace\"><span style=\"font-weight: bold\"> Optimizer params: </span><span style=\"color: #00af00; text-decoration-color: #00af00\">844,840</span> (3.22 MB)\n",
              "</pre>\n"
            ],
            "text/plain": [
              "\u001b[1m Optimizer params: \u001b[0m\u001b[38;5;34m844,840\u001b[0m (3.22 MB)\n"
            ]
          },
          "metadata": {},
          "output_type": "display_data"
        },
        {
          "data": {
            "image/png": "[encoded data removed]",
            "text/plain": [
              "<Figure size 640x480 with 1 Axes>"
            ]
          },
          "metadata": {},
          "output_type": "display_data"
        }
      ],
      "source": [
        "keras.utils.set_random_seed(seed)\n",
        "model2 = Sequential()\n",
        "\n",
        "# Ajout d'une couche cachée avec 16 sorties, utilisant la fonction d'activation sigmoïde\n",
        "model2.add(Dense(16, activation='sigmoid'))\n",
        "# Ajout de la couche de sortie, avec 3 sorties, et utilisant le Softmax comme fonction d'application\n",
        "model2.add(Dense(3, activation='softmax'))\n",
        "\n",
        "# Entraînement et affichage\n",
        "model2.compile(optimizer='adam', loss='categorical_crossentropy', metrics=['accuracy'])\n",
        "history = model2.fit(X_train, y_train, epochs=10, validation_data=(X_valid, y_valid))\n",
        "model2.summary()\n",
        "display_accuracy(history)"
      ]
    },
    {
      "cell_type": "code",
      "execution_count": null,
      "id": "26bfb29d-5601-4da5-8f2b-90e5e68d14bc",
      "metadata": {
        "id": "26bfb29d-5601-4da5-8f2b-90e5e68d14bc",
        "outputId": "384e7473-afe6-42cb-d7d2-6e094b7491f7"
      },
      "outputs": [
        {
          "name": "stdout",
          "output_type": "stream",
          "text": [
            "Précision (test): 66.99%\n"
          ]
        }
      ],
      "source": [
        "# Calcul de la précision sur le jeu de test\n",
        "y_pred = model2(X_test.toarray()).numpy().argmax(axis=1)\n",
        "y_true = y_test.argmax(axis=1)\n",
        "print(f\"Précision (test): {(y_pred == y_true).sum() / len(y_pred):.2%}\")"
      ]
    },
    {
      "cell_type": "markdown",
      "id": "3d21f264-b1d2-416a-8053-9fdd1f66e023",
      "metadata": {
        "id": "3d21f264-b1d2-416a-8053-9fdd1f66e023"
      },
      "source": [
        "**Attention :** On rappelle que bien que la précision globale soit une métrique utile, elle peut cacher des disparités entre les différentes classes. Selon les applications, il peut être préférable d'avoir un modèle qui soit globalement moins performant, mais qui soit aussi performant sur toutes les classes.\n",
        "\n",
        "Observons donc la répartition des étiquettes dans le jeu de données :"
      ]
    },
    {
      "cell_type": "code",
      "execution_count": null,
      "id": "6d362c21-77be-49fe-8784-4bae47d654a2",
      "metadata": {
        "id": "6d362c21-77be-49fe-8784-4bae47d654a2",
        "outputId": "6541917f-556a-49bb-ffd3-c5abf493f524"
      },
      "outputs": [
        {
          "data": {
            "text/plain": [
              "<Axes: xlabel='sentiment'>"
            ]
          },
          "execution_count": 16,
          "metadata": {},
          "output_type": "execute_result"
        },
        {
          "data": {
            "image/png": "[encoded data removed]",
            "text/plain": [
              "<Figure size 640x480 with 1 Axes>"
            ]
          },
          "metadata": {},
          "output_type": "display_data"
        }
      ],
      "source": [
        "df['sentiment'].value_counts(normalize=True).plot(kind='bar')"
      ]
    },
    {
      "cell_type": "markdown",
      "id": "66c2141f-fc46-4169-905e-3bc3e8280ce8",
      "metadata": {
        "id": "66c2141f-fc46-4169-905e-3bc3e8280ce8"
      },
      "source": [
        "Ici, les trois classes sont représentées avec des proportions assez égales dans le jeu de données. Cependant, il peut être utile d'avoir d'observer à quel point celle-ci peut varier au sein des classes :"
      ]
    },
    {
      "cell_type": "code",
      "execution_count": null,
      "id": "885c02ba-5bde-45c6-a0af-9fb0d71a90ed",
      "metadata": {
        "id": "885c02ba-5bde-45c6-a0af-9fb0d71a90ed",
        "outputId": "adbcd3b0-658d-44bc-e6d1-1606e32a487f"
      },
      "outputs": [
        {
          "name": "stdout",
          "output_type": "stream",
          "text": [
            "              precision    recall  f1-score   support\n",
            "\n",
            "    negative       0.69      0.59      0.64       786\n",
            "     neutral       0.60      0.72      0.65      1095\n",
            "    positive       0.77      0.69      0.73       867\n",
            "\n",
            "    accuracy                           0.67      2748\n",
            "   macro avg       0.69      0.66      0.67      2748\n",
            "weighted avg       0.68      0.67      0.67      2748\n",
            "\n"
          ]
        }
      ],
      "source": [
        "print(classification_report(y_true, y_pred, target_names=[get_label(x) for x in range(3)]))"
      ]
    },
    {
      "cell_type": "markdown",
      "id": "ce0dab36-cbd3-4b59-a60d-70789307e38c",
      "metadata": {
        "id": "ce0dab36-cbd3-4b59-a60d-70789307e38c"
      },
      "source": [
        " 0,77 pour la classe positive, 0,69 pour la classe négative et 0,60 pour la classe neutre.\n",
        "\n",
        "### Taille du réseau\n",
        "\n",
        "À la fin de l'entraînement, Keras affiche le nombre de paramètres que contient votre modèle, c'est-à-dire son nombre de poids et biais. Le modèle de la semaine dernière contenait un total de 12 poids (matrice de taille (3, 4)) et 3 biais, soit 15 paramètres. Ici, notre modèle à une couche contient 79 194 paramètres à entraîner (*trainable params*), il est donc beaucoup plus gros.\n",
        "C'est souvent le cas pour les modèles travaillant sur du texte, qui ont besoin de beaucoup de poids pour être capable de modéliser un vocabulaire entier.\n",
        "\n",
        "De plus, le nombre de paramètres d'un modèle augmente avec sa profondeur (nombre de couches). Les modèles de langue tels que celui utilisé par ChatGPT contiennent plusieurs milliards, voire dizaines de milliards de paramètres. Plus un modèle a de paramètres, plus l'entraîner ou l'utiliser prend de la mémoire et du temps.\n",
        "\n",
        "\n",
        "Total params: 1,267,259 (4.83 MB)\n",
        "\n",
        "## Analyse des résultats\n",
        "\n",
        "Le modèle semble ne pas avoir d'amélioration significative, malgré l'ajout d'une couche supplémentaire. Observons quelques-unes des erreurs faites par le modèle :"
      ]
    },
    {
      "cell_type": "code",
      "execution_count": null,
      "id": "96c5ff4b-336a-40af-8210-fa4efbcbed58",
      "metadata": {
        "scrolled": true,
        "id": "96c5ff4b-336a-40af-8210-fa4efbcbed58",
        "outputId": "567fc004-171d-4246-a27a-40b1b86d0347"
      },
      "outputs": [
        {
          "name": "stdout",
          "output_type": "stream",
          "text": [
            "Prédiction : [neutral] au lieu de [negative] pour le tweet [my boss is bullying me...]\n",
            "Prédiction : [negative] au lieu de [neutral] pour le tweet [Soooo high]\n",
            "Prédiction : [neutral] au lieu de [negative] pour le tweet [Went to sleep and there is a power cut in Noida  Power back up not working too]\n",
            "Prédiction : [neutral] au lieu de [positive] pour le tweet [I`m going home now. Have you seen my new twitter design? Quite....heavenly isn`****?]\n",
            "Prédiction : [positive] au lieu de [negative] pour le tweet [i`m soooooo sleeeeepy!!! the last day o` school was today....sniffle....]\n",
            "Prédiction : [neutral] au lieu de [negative] pour le tweet [ which case? I got a new one last week and I`m not thrilled at all with mine.]\n",
            "Prédiction : [positive] au lieu de [neutral] pour le tweet [ what fun are you speaking of?]\n",
            "Prédiction : [neutral] au lieu de [negative] pour le tweet [I give in to easily]\n",
            "Prédiction : [positive] au lieu de [neutral] pour le tweet [ If you know such agent, do let me know]\n",
            "Prédiction : [positive] au lieu de [neutral] pour le tweet [ she is good! so gor-juz yea i kno i asked her yesterday when we were at tha hospital if she talked to u and she said no]\n"
          ]
        }
      ],
      "source": [
        "max_errors = 10\n",
        "errors = 0\n",
        "for idx, row in df.iterrows():\n",
        "    pred = predict(row['text'], model, False)\n",
        "    true = row['sentiment']\n",
        "    if pred != true:\n",
        "        print(f'Prédiction : [{pred}] au lieu de [{true}] pour le tweet [{row[\"text\"]}]')\n",
        "        errors += 1\n",
        "        if errors >= max_errors:\n",
        "            break"
      ]
    },
    {
      "cell_type": "markdown",
      "id": "92d01eaf-00b4-4dad-ba17-83ea1b6cdc3f",
      "metadata": {
        "id": "92d01eaf-00b4-4dad-ba17-83ea1b6cdc3f"
      },
      "source": [
        "Les erreurs de classification peuvent être dues au manque de contexte et à l'ambiguïté des mots, liés à l'utilisation de TF-IDF.\n",
        "\n",
        "Il est possible de visualiser les résultats du modèle grâce à une **matrice de confusion**. Il s'agit d'un tableau contenant en abscisse les étiquettes prédites par le modèle, et en ordonnée les étiquettes véritables. Chaque case contient alors le nombre d'exemples correspondant à une prédiction donnée :"
      ]
    },
    {
      "cell_type": "code",
      "execution_count": null,
      "id": "726f89bb-0d17-4864-b09f-30b9859bcf81",
      "metadata": {
        "id": "726f89bb-0d17-4864-b09f-30b9859bcf81",
        "outputId": "4e079d57-04e6-4453-fe6f-f5ce3299de95"
      },
      "outputs": [
        {
          "data": {
            "image/png": "[encoded data removed]",
            "text/plain": [
              "<Figure size 640x480 with 2 Axes>"
            ]
          },
          "metadata": {},
          "output_type": "display_data"
        }
      ],
      "source": [
        "y_pred = model(X_test.toarray()).numpy().argmax(axis=1)\n",
        "y_true = y_test.argmax(axis=1)\n",
        "ConfusionMatrixDisplay.from_predictions(y_true, y_pred, display_labels=[get_label(x) for x in range(3)])\n",
        "plt.show()"
      ]
    },
    {
      "cell_type": "markdown",
      "id": "6c642330-519a-4fb5-8b73-225b061658b4",
      "metadata": {
        "id": "6c642330-519a-4fb5-8b73-225b061658b4"
      },
      "source": [
        "Ici par exemple, la première rangée indique que 449 + 305 + 32 = 786 tweets étaient étiquetés comme négatifs dans le jeu de données. Sur ces 449, le modèle en a correctement étiqueté 449 comme négatifs, mais en a également étiqueté 305 comme neutres et 32 comme négatifs.\n",
        "\n",
        "Similairement, la première colonne indique que sur 449 + 178 + 32 tweets que le modèle a décrit comme négatifs, seuls 449 étaient vraiment négatifs, 178 étaient en fait neutres, et 32 étaient positifs.\n",
        "\n",
        "La jauge de couleur permet d'identifier facilement où sont les erreurs; dans l'idéal, la diagonale de la matrice de confusion doit être jaune, et le reste le plus violet possible. Ici, on remarque que le modèle a du mal à distinguer entre les tweets neutres et positifs/négatifs, mais qu'il étiquette très rarement un tweet négatif comme positif ou un positif comme négatif. D'autre part, la distinction entre un tweet négatif (ou positif) et un tweet neutre est assez floue et subjective. On peut donc imaginer que s'il n'y avait que ces deux types d'étiquettes, le modèle obtiendrait de meilleurs résultats."
      ]
    },
    {
      "cell_type": "markdown",
      "id": "ee9d1f54-4874-4d5d-a295-76087c89dd4a",
      "metadata": {
        "id": "ee9d1f54-4874-4d5d-a295-76087c89dd4a"
      },
      "source": [
        "# Bonus\n",
        "\n",
        "## Partie 1 : Critiques de films (en français)\n",
        "\n",
        "Le fichier `data_b.csv` contient un autre jeu de données, cette fois-ci composé de critiques de films enregistrées sur AlloCiné (en français). Au texte de chaque critique est associé un score de sentiment qui vaut soit 0 (critique négative), soit 1 (critique positive).\n"
      ]
    },
    {
      "cell_type": "code",
      "execution_count": null,
      "id": "5f805941-6729-473b-b991-074c6e97d6ec",
      "metadata": {
        "id": "5f805941-6729-473b-b991-074c6e97d6ec",
        "outputId": "cc42aa7a-99db-4335-8c8a-3cb9ca81bc9a"
      },
      "outputs": [
        {
          "data": {
            "text/html": [
              "<div>\n",
              "<style scoped>\n",
              "    .dataframe tbody tr th:only-of-type {\n",
              "        vertical-align: middle;\n",
              "    }\n",
              "\n",
              "    .dataframe tbody tr th {\n",
              "        vertical-align: top;\n",
              "    }\n",
              "\n",
              "    .dataframe thead th {\n",
              "        text-align: right;\n",
              "    }\n",
              "</style>\n",
              "<table border=\"1\" class=\"dataframe\">\n",
              "  <thead>\n",
              "    <tr style=\"text-align: right;\">\n",
              "      <th></th>\n",
              "      <th>Unnamed: 0</th>\n",
              "      <th>film-url</th>\n",
              "      <th>review</th>\n",
              "      <th>polarity</th>\n",
              "    </tr>\n",
              "  </thead>\n",
              "  <tbody>\n",
              "    <tr>\n",
              "      <th>0</th>\n",
              "      <td>0</td>\n",
              "      <td>http://www.allocine.fr/film/fichefilm-25385/cr...</td>\n",
              "      <td>Magnifique épopée, une belle histoire, touchan...</td>\n",
              "      <td>1</td>\n",
              "    </tr>\n",
              "    <tr>\n",
              "      <th>1</th>\n",
              "      <td>1</td>\n",
              "      <td>http://www.allocine.fr/film/fichefilm-1954/cri...</td>\n",
              "      <td>Je n'ai pas aimé mais pourtant je lui mets 2 é...</td>\n",
              "      <td>0</td>\n",
              "    </tr>\n",
              "    <tr>\n",
              "      <th>2</th>\n",
              "      <td>2</td>\n",
              "      <td>http://www.allocine.fr/film/fichefilm-135523/c...</td>\n",
              "      <td>Un dessin animé qui brille par sa féerie et se...</td>\n",
              "      <td>1</td>\n",
              "    </tr>\n",
              "    <tr>\n",
              "      <th>3</th>\n",
              "      <td>3</td>\n",
              "      <td>http://www.allocine.fr/film/fichefilm-61514/cr...</td>\n",
              "      <td>Si c'est là le renouveau du cinéma français, c...</td>\n",
              "      <td>0</td>\n",
              "    </tr>\n",
              "    <tr>\n",
              "      <th>4</th>\n",
              "      <td>4</td>\n",
              "      <td>http://www.allocine.fr/film/fichefilm-260395/c...</td>\n",
              "      <td>Et pourtant on s’en Doutait !Second volet très...</td>\n",
              "      <td>0</td>\n",
              "    </tr>\n",
              "    <tr>\n",
              "      <th>...</th>\n",
              "      <td>...</td>\n",
              "      <td>...</td>\n",
              "      <td>...</td>\n",
              "      <td>...</td>\n",
              "    </tr>\n",
              "    <tr>\n",
              "      <th>19995</th>\n",
              "      <td>19995</td>\n",
              "      <td>http://www.allocine.fr/film/fichefilm-59408/cr...</td>\n",
              "      <td>je suis éventreur, arracheur, tailladeur, goug...</td>\n",
              "      <td>1</td>\n",
              "    </tr>\n",
              "    <tr>\n",
              "      <th>19996</th>\n",
              "      <td>19996</td>\n",
              "      <td>http://www.allocine.fr/film/fichefilm-141252/c...</td>\n",
              "      <td>Trémors 3 essouffle la série des trémors par u...</td>\n",
              "      <td>0</td>\n",
              "    </tr>\n",
              "    <tr>\n",
              "      <th>19997</th>\n",
              "      <td>19997</td>\n",
              "      <td>http://www.allocine.fr/film/fichefilm-48636/cr...</td>\n",
              "      <td>0/20 : Tout d’abord, la mise en scène est tout...</td>\n",
              "      <td>0</td>\n",
              "    </tr>\n",
              "    <tr>\n",
              "      <th>19998</th>\n",
              "      <td>19998</td>\n",
              "      <td>http://www.allocine.fr/film/fichefilm-190157/c...</td>\n",
              "      <td>Un scénario très original mené par des personn...</td>\n",
              "      <td>1</td>\n",
              "    </tr>\n",
              "    <tr>\n",
              "      <th>19999</th>\n",
              "      <td>19999</td>\n",
              "      <td>http://www.allocine.fr/film/fichefilm-6608/cri...</td>\n",
              "      <td>Ce dernier volet de la trilogie a beau être le...</td>\n",
              "      <td>1</td>\n",
              "    </tr>\n",
              "  </tbody>\n",
              "</table>\n",
              "<p>20000 rows × 4 columns</p>\n",
              "</div>"
            ],
            "text/plain": [
              "       Unnamed: 0                                           film-url  \\\n",
              "0               0  http://www.allocine.fr/film/fichefilm-25385/cr...   \n",
              "1               1  http://www.allocine.fr/film/fichefilm-1954/cri...   \n",
              "2               2  http://www.allocine.fr/film/fichefilm-135523/c...   \n",
              "3               3  http://www.allocine.fr/film/fichefilm-61514/cr...   \n",
              "4               4  http://www.allocine.fr/film/fichefilm-260395/c...   \n",
              "...           ...                                                ...   \n",
              "19995       19995  http://www.allocine.fr/film/fichefilm-59408/cr...   \n",
              "19996       19996  http://www.allocine.fr/film/fichefilm-141252/c...   \n",
              "19997       19997  http://www.allocine.fr/film/fichefilm-48636/cr...   \n",
              "19998       19998  http://www.allocine.fr/film/fichefilm-190157/c...   \n",
              "19999       19999  http://www.allocine.fr/film/fichefilm-6608/cri...   \n",
              "\n",
              "                                                  review  polarity  \n",
              "0      Magnifique épopée, une belle histoire, touchan...         1  \n",
              "1      Je n'ai pas aimé mais pourtant je lui mets 2 é...         0  \n",
              "2      Un dessin animé qui brille par sa féerie et se...         1  \n",
              "3      Si c'est là le renouveau du cinéma français, c...         0  \n",
              "4      Et pourtant on s’en Doutait !Second volet très...         0  \n",
              "...                                                  ...       ...  \n",
              "19995  je suis éventreur, arracheur, tailladeur, goug...         1  \n",
              "19996  Trémors 3 essouffle la série des trémors par u...         0  \n",
              "19997  0/20 : Tout d’abord, la mise en scène est tout...         0  \n",
              "19998  Un scénario très original mené par des personn...         1  \n",
              "19999  Ce dernier volet de la trilogie a beau être le...         1  \n",
              "\n",
              "[20000 rows x 4 columns]"
            ]
          },
          "execution_count": 20,
          "metadata": {},
          "output_type": "execute_result"
        }
      ],
      "source": [
        "# Lecture du fichier contenant les critiques de films... À vous d'écrire le reste !\n",
        "df = pd.read_csv('data_b.csv')\n",
        "df"
      ]
    },
    {
      "cell_type": "code",
      "execution_count": null,
      "id": "24ce610e",
      "metadata": {
        "id": "24ce610e",
        "outputId": "b3536ed8-ac31-45ce-958f-d7997c6e4e19"
      },
      "outputs": [
        {
          "name": "stdout",
          "output_type": "stream",
          "text": [
            "(16000, 56977)\n",
            "(16000, 2)\n",
            "(2000, 56977)\n",
            "(2000, 2)\n",
            "(2000, 56977)\n",
            "(2000, 2)\n",
            "Epoch 1/10\n",
            "\u001b[1m500/500\u001b[0m \u001b[32m━━━━━━━━━━━━━━━━━━━━\u001b[0m\u001b[37m\u001b[0m \u001b[1m15s\u001b[0m 29ms/step - accuracy: 0.6103 - loss: 0.7211 - val_accuracy: 0.8670 - val_loss: 0.5851\n",
            "Epoch 2/10\n",
            "\u001b[1m500/500\u001b[0m \u001b[32m━━━━━━━━━━━━━━━━━━━━\u001b[0m\u001b[37m\u001b[0m \u001b[1m13s\u001b[0m 27ms/step - accuracy: 0.9026 - loss: 0.5275 - val_accuracy: 0.8890 - val_loss: 0.3974\n",
            "Epoch 3/10\n",
            "\u001b[1m500/500\u001b[0m \u001b[32m━━━━━━━━━━━━━━━━━━━━\u001b[0m\u001b[37m\u001b[0m \u001b[1m14s\u001b[0m 27ms/step - accuracy: 0.9321 - loss: 0.3263 - val_accuracy: 0.9065 - val_loss: 0.2880\n",
            "Epoch 4/10\n",
            "\u001b[1m500/500\u001b[0m \u001b[32m━━━━━━━━━━━━━━━━━━━━\u001b[0m\u001b[37m\u001b[0m \u001b[1m14s\u001b[0m 28ms/step - accuracy: 0.9522 - loss: 0.2102 - val_accuracy: 0.9100 - val_loss: 0.2419\n",
            "Epoch 5/10\n",
            "\u001b[1m500/500\u001b[0m \u001b[32m━━━━━━━━━━━━━━━━━━━━\u001b[0m\u001b[37m\u001b[0m \u001b[1m12s\u001b[0m 25ms/step - accuracy: 0.9664 - loss: 0.1494 - val_accuracy: 0.9155 - val_loss: 0.2207\n",
            "Epoch 6/10\n",
            "\u001b[1m500/500\u001b[0m \u001b[32m━━━━━━━━━━━━━━━━━━━━\u001b[0m\u001b[37m\u001b[0m \u001b[1m12s\u001b[0m 24ms/step - accuracy: 0.9748 - loss: 0.1120 - val_accuracy: 0.9145 - val_loss: 0.2106\n",
            "Epoch 7/10\n",
            "\u001b[1m500/500\u001b[0m \u001b[32m━━━━━━━━━━━━━━━━━━━━\u001b[0m\u001b[37m\u001b[0m \u001b[1m12s\u001b[0m 24ms/step - accuracy: 0.9830 - loss: 0.0863 - val_accuracy: 0.9120 - val_loss: 0.2063\n",
            "Epoch 8/10\n",
            "\u001b[1m500/500\u001b[0m \u001b[32m━━━━━━━━━━━━━━━━━━━━\u001b[0m\u001b[37m\u001b[0m \u001b[1m12s\u001b[0m 24ms/step - accuracy: 0.9870 - loss: 0.0676 - val_accuracy: 0.9135 - val_loss: 0.2055\n",
            "Epoch 9/10\n",
            "\u001b[1m500/500\u001b[0m \u001b[32m━━━━━━━━━━━━━━━━━━━━\u001b[0m\u001b[37m\u001b[0m \u001b[1m15s\u001b[0m 29ms/step - accuracy: 0.9903 - loss: 0.0534 - val_accuracy: 0.9135 - val_loss: 0.2070\n",
            "Epoch 10/10\n",
            "\u001b[1m500/500\u001b[0m \u001b[32m━━━━━━━━━━━━━━━━━━━━\u001b[0m\u001b[37m\u001b[0m \u001b[1m16s\u001b[0m 31ms/step - accuracy: 0.9923 - loss: 0.0424 - val_accuracy: 0.9145 - val_loss: 0.2100\n"
          ]
        },
        {
          "data": {
            "text/html": [
              "<pre style=\"white-space:pre;overflow-x:auto;line-height:normal;font-family:Menlo,'DejaVu Sans Mono',consolas,'Courier New',monospace\"><span style=\"font-weight: bold\">Model: \"sequential_4\"</span>\n",
              "</pre>\n"
            ],
            "text/plain": [
              "\u001b[1mModel: \"sequential_4\"\u001b[0m\n"
            ]
          },
          "metadata": {},
          "output_type": "display_data"
        },
        {
          "data": {
            "text/html": [
              "<pre style=\"white-space:pre;overflow-x:auto;line-height:normal;font-family:Menlo,'DejaVu Sans Mono',consolas,'Courier New',monospace\">┏━━━━━━━━━━━━━━━━━━━━━━━━━━━━━━━━━┳━━━━━━━━━━━━━━━━━━━━━━━━┳━━━━━━━━━━━━━━━┓\n",
              "┃<span style=\"font-weight: bold\"> Layer (type)                    </span>┃<span style=\"font-weight: bold\"> Output Shape           </span>┃<span style=\"font-weight: bold\">       Param # </span>┃\n",
              "┡━━━━━━━━━━━━━━━━━━━━━━━━━━━━━━━━━╇━━━━━━━━━━━━━━━━━━━━━━━━╇━━━━━━━━━━━━━━━┩\n",
              "│ dense_7 (<span style=\"color: #0087ff; text-decoration-color: #0087ff\">Dense</span>)                 │ (<span style=\"color: #00af00; text-decoration-color: #00af00\">32</span>, <span style=\"color: #00af00; text-decoration-color: #00af00\">16</span>)               │       <span style=\"color: #00af00; text-decoration-color: #00af00\">911,648</span> │\n",
              "├─────────────────────────────────┼────────────────────────┼───────────────┤\n",
              "│ dense_8 (<span style=\"color: #0087ff; text-decoration-color: #0087ff\">Dense</span>)                 │ (<span style=\"color: #00af00; text-decoration-color: #00af00\">32</span>, <span style=\"color: #00af00; text-decoration-color: #00af00\">2</span>)                │            <span style=\"color: #00af00; text-decoration-color: #00af00\">34</span> │\n",
              "└─────────────────────────────────┴────────────────────────┴───────────────┘\n",
              "</pre>\n"
            ],
            "text/plain": [
              "┏━━━━━━━━━━━━━━━━━━━━━━━━━━━━━━━━━┳━━━━━━━━━━━━━━━━━━━━━━━━┳━━━━━━━━━━━━━━━┓\n",
              "┃\u001b[1m \u001b[0m\u001b[1mLayer (type)                   \u001b[0m\u001b[1m \u001b[0m┃\u001b[1m \u001b[0m\u001b[1mOutput Shape          \u001b[0m\u001b[1m \u001b[0m┃\u001b[1m \u001b[0m\u001b[1m      Param #\u001b[0m\u001b[1m \u001b[0m┃\n",
              "┡━━━━━━━━━━━━━━━━━━━━━━━━━━━━━━━━━╇━━━━━━━━━━━━━━━━━━━━━━━━╇━━━━━━━━━━━━━━━┩\n",
              "│ dense_7 (\u001b[38;5;33mDense\u001b[0m)                 │ (\u001b[38;5;34m32\u001b[0m, \u001b[38;5;34m16\u001b[0m)               │       \u001b[38;5;34m911,648\u001b[0m │\n",
              "├─────────────────────────────────┼────────────────────────┼───────────────┤\n",
              "│ dense_8 (\u001b[38;5;33mDense\u001b[0m)                 │ (\u001b[38;5;34m32\u001b[0m, \u001b[38;5;34m2\u001b[0m)                │            \u001b[38;5;34m34\u001b[0m │\n",
              "└─────────────────────────────────┴────────────────────────┴───────────────┘\n"
            ]
          },
          "metadata": {},
          "output_type": "display_data"
        },
        {
          "data": {
            "text/html": [
              "<pre style=\"white-space:pre;overflow-x:auto;line-height:normal;font-family:Menlo,'DejaVu Sans Mono',consolas,'Courier New',monospace\"><span style=\"font-weight: bold\"> Total params: </span><span style=\"color: #00af00; text-decoration-color: #00af00\">2,735,048</span> (10.43 MB)\n",
              "</pre>\n"
            ],
            "text/plain": [
              "\u001b[1m Total params: \u001b[0m\u001b[38;5;34m2,735,048\u001b[0m (10.43 MB)\n"
            ]
          },
          "metadata": {},
          "output_type": "display_data"
        },
        {
          "data": {
            "text/html": [
              "<pre style=\"white-space:pre;overflow-x:auto;line-height:normal;font-family:Menlo,'DejaVu Sans Mono',consolas,'Courier New',monospace\"><span style=\"font-weight: bold\"> Trainable params: </span><span style=\"color: #00af00; text-decoration-color: #00af00\">911,682</span> (3.48 MB)\n",
              "</pre>\n"
            ],
            "text/plain": [
              "\u001b[1m Trainable params: \u001b[0m\u001b[38;5;34m911,682\u001b[0m (3.48 MB)\n"
            ]
          },
          "metadata": {},
          "output_type": "display_data"
        },
        {
          "data": {
            "text/html": [
              "<pre style=\"white-space:pre;overflow-x:auto;line-height:normal;font-family:Menlo,'DejaVu Sans Mono',consolas,'Courier New',monospace\"><span style=\"font-weight: bold\"> Non-trainable params: </span><span style=\"color: #00af00; text-decoration-color: #00af00\">0</span> (0.00 B)\n",
              "</pre>\n"
            ],
            "text/plain": [
              "\u001b[1m Non-trainable params: \u001b[0m\u001b[38;5;34m0\u001b[0m (0.00 B)\n"
            ]
          },
          "metadata": {},
          "output_type": "display_data"
        },
        {
          "data": {
            "text/html": [
              "<pre style=\"white-space:pre;overflow-x:auto;line-height:normal;font-family:Menlo,'DejaVu Sans Mono',consolas,'Courier New',monospace\"><span style=\"font-weight: bold\"> Optimizer params: </span><span style=\"color: #00af00; text-decoration-color: #00af00\">1,823,366</span> (6.96 MB)\n",
              "</pre>\n"
            ],
            "text/plain": [
              "\u001b[1m Optimizer params: \u001b[0m\u001b[38;5;34m1,823,366\u001b[0m (6.96 MB)\n"
            ]
          },
          "metadata": {},
          "output_type": "display_data"
        },
        {
          "data": {
            "image/png": "[encoded data removed]",
            "text/plain": [
              "<Figure size 640x480 with 1 Axes>"
            ]
          },
          "metadata": {},
          "output_type": "display_data"
        },
        {
          "name": "stdout",
          "output_type": "stream",
          "text": [
            "\u001b[1m63/63\u001b[0m \u001b[32m━━━━━━━━━━━━━━━━━━━━\u001b[0m\u001b[37m\u001b[0m \u001b[1m1s\u001b[0m 7ms/step\n",
            "Précision: 92.25%\n",
            "              precision    recall  f1-score   support\n",
            "\n",
            "           0       0.93      0.93      0.93      1052\n",
            "           1       0.92      0.92      0.92       948\n",
            "\n",
            "    accuracy                           0.92      2000\n",
            "   macro avg       0.92      0.92      0.92      2000\n",
            "weighted avg       0.92      0.92      0.92      2000\n",
            "\n"
          ]
        },
        {
          "data": {
            "image/png": "[encoded data removed]",
            "text/plain": [
              "<Figure size 640x480 with 2 Axes>"
            ]
          },
          "metadata": {},
          "output_type": "display_data"
        }
      ],
      "source": [
        "# Seed\n",
        "seed = 1\n",
        "\n",
        "# On garde uniquement les deux colonnes qui nous intéressent, et on se débarrasse des lignes contenant des champs vides (N/A)\n",
        "df = df[['review', 'polarity']].dropna()\n",
        "\n",
        "# OneHotEncoder 0  1\n",
        "enc = OneHotEncoder(sparse_output=False)\n",
        "labels = enc.fit_transform(df[['polarity']])  # Use double brackets to keep it as a DataFrame\n",
        "\n",
        "# Calcule la TF-IDF de chaque mot dans chaque texte\n",
        "vectorization = TfidfVectorizer()\n",
        "tfidf = vectorization.fit_transform(df['review'])\n",
        "\n",
        "train_frac = 0.8\n",
        "valid_frac = 0.1\n",
        "test_frac = 0.1\n",
        "\n",
        "# On sépare d'abord le jeu d'entraînement du reste\n",
        "X_train, X_2, y_train, y_2 = train_test_split(tfidf, labels, test_size=valid_frac + test_frac, shuffle=True, random_state=seed)\n",
        "# Puis on sépare le reste en deux (validation et test)\n",
        "X_valid, X_test, y_valid, y_test = train_test_split(X_2, y_2, test_size=test_frac/(test_frac + valid_frac), shuffle=True, random_state=seed)\n",
        "\n",
        "#datasets\n",
        "print(X_train.shape)\n",
        "print(y_train.shape)\n",
        "print(X_valid.shape)\n",
        "print(y_valid.shape)\n",
        "print(X_test.shape)\n",
        "print(y_test.shape)\n",
        "\n",
        "def display_accuracy(history):\n",
        "    plt.plot(history.history['accuracy'], label='Précision (entraînement)')\n",
        "    plt.plot(history.history['val_accuracy'], label='Précision (validation)')\n",
        "    plt.xlabel('Itération')\n",
        "    plt.legend()\n",
        "    plt.grid()\n",
        "    plt.show()\n",
        "\n",
        "# Création d'un réseau de neurones (liste de couches)\n",
        "model3 = Sequential()\n",
        "model3.add(Dense(16, activation='sigmoid')) # Ajout d'une couche cachée avec 16 sorties, utilisant la fonction d'activation sigmoïde\n",
        "model3.add(Dense(2, activation='softmax')) # Ajout de la couche de sortie, avec 2 sorties (positive), et utilisant le Softmax comme fonction d'application\n",
        "\n",
        "# Entraînement et affichage\n",
        "model3.compile(optimizer='adam', loss='categorical_crossentropy', metrics=['accuracy'])\n",
        "history = model3.fit(X_train, y_train, epochs=10, validation_data=(X_valid, y_valid))\n",
        "\n",
        "# Summary, accuracy\n",
        "model3.summary()\n",
        "display_accuracy(history)\n",
        "\n",
        "# Calcul de la précision sur le jeu de test\n",
        "y_pred = model3.predict(X_test).argmax(axis=1)\n",
        "y_true = y_test.argmax(axis=1)\n",
        "print(f\"Précision: {(y_pred == y_true).sum() / len(y_pred):.2%}\")\n",
        "\n",
        "#classification\n",
        "print(classification_report(y_true, y_pred, target_names=enc.categories_[0].astype(str)))\n",
        "\n",
        "#matrice de confusion\n",
        "ConfusionMatrixDisplay.from_predictions(y_true, y_pred, display_labels=enc.categories_[0].astype(str))\n",
        "plt.show()\n"
      ]
    },
    {
      "cell_type": "markdown",
      "id": "2ca6a68a-88d6-4ec5-88a0-7805a9563fa9",
      "metadata": {
        "id": "2ca6a68a-88d6-4ec5-88a0-7805a9563fa9"
      },
      "source": [
        "## Partie 2 : Pré-traitement de texte avancé\n",
        "\n",
        "La classe `TfidfVectorizer` a [beaucoup de paramètres optionnels](https://scikit-learn.org/1.5/modules/generated/sklearn.feature_extraction.text.TfidfVectorizer.html). En particulier, elle permet de pré-traiter et nettoyer le texte avant d'obtenir sa TF-IDF, avec par exemple :\n",
        "- La suppression des accents et caractères spéciaux (paramètre `strip_accents`)\n",
        "- Le passage du texte en minuscules (paramètre `lowercase`)\n",
        "- La suppression des mots courants tels que \"the\", \"and\", etc. (paramètre `stop_words`)\n",
        "- L'enregistrement d'expression multimots : plutôt que de calculer la TF-IDF pour les mots individuels, on peut également la calculer pour des suites (n-grams) de 2 ou plus mots consécutifs (on peut par exemple imaginer que le mot \"very\" soit neutre, mais que les expressions \"very good\" ou \"very bad\" soient de plus forts indicateurs que seulement \"good\" et \"bad\"). Ceci peut être contrôlé grâce au paramètre `ngram_range`. Attention, si vous modifiez ce paramètre, il est fortement conseillé d'également utiliser le paramètre `max_features` pour limiter la taille du dictionnaire à (par exemple) 30 000 mots ou suites de mots, ou vous risquez de manquer de mémoire.\n",
        "- Le fait d'ignorer des mots trop rares ou trop fréquents (paramètres `min_df` et `max_df`)\n"
      ]
    },
    {
      "cell_type": "code",
      "execution_count": null,
      "id": "c22ba42b-87e2-4a6a-a5a9-45169e5959af",
      "metadata": {
        "id": "c22ba42b-87e2-4a6a-a5a9-45169e5959af",
        "outputId": "5cf22697-52e9-46fd-dfbd-a4d79c17f43f"
      },
      "outputs": [
        {
          "name": "stdout",
          "output_type": "stream",
          "text": [
            "(16000, 30000)\n",
            "(16000, 2)\n",
            "(2000, 30000)\n",
            "(2000, 2)\n",
            "(2000, 30000)\n",
            "(2000, 2)\n",
            "Epoch 1/10\n",
            "\u001b[1m500/500\u001b[0m \u001b[32m━━━━━━━━━━━━━━━━━━━━\u001b[0m\u001b[37m\u001b[0m \u001b[1m11s\u001b[0m 19ms/step - accuracy: 0.6952 - loss: 0.6457 - val_accuracy: 0.9065 - val_loss: 0.4737\n",
            "Epoch 2/10\n",
            "\u001b[1m500/500\u001b[0m \u001b[32m━━━━━━━━━━━━━━━━━━━━\u001b[0m\u001b[37m\u001b[0m \u001b[1m7s\u001b[0m 15ms/step - accuracy: 0.9263 - loss: 0.4050 - val_accuracy: 0.9190 - val_loss: 0.2976\n",
            "Epoch 3/10\n",
            "\u001b[1m500/500\u001b[0m \u001b[32m━━━━━━━━━━━━━━━━━━━━\u001b[0m\u001b[37m\u001b[0m \u001b[1m7s\u001b[0m 14ms/step - accuracy: 0.9491 - loss: 0.2355 - val_accuracy: 0.9295 - val_loss: 0.2255\n",
            "Epoch 4/10\n",
            "\u001b[1m500/500\u001b[0m \u001b[32m━━━━━━━━━━━━━━━━━━━━\u001b[0m\u001b[37m\u001b[0m \u001b[1m7s\u001b[0m 13ms/step - accuracy: 0.9681 - loss: 0.1547 - val_accuracy: 0.9325 - val_loss: 0.1946\n",
            "Epoch 5/10\n",
            "\u001b[1m500/500\u001b[0m \u001b[32m━━━━━━━━━━━━━━━━━━━━\u001b[0m\u001b[37m\u001b[0m \u001b[1m7s\u001b[0m 13ms/step - accuracy: 0.9801 - loss: 0.1088 - val_accuracy: 0.9320 - val_loss: 0.1801\n",
            "Epoch 6/10\n",
            "\u001b[1m500/500\u001b[0m \u001b[32m━━━━━━━━━━━━━━━━━━━━\u001b[0m\u001b[37m\u001b[0m \u001b[1m7s\u001b[0m 13ms/step - accuracy: 0.9869 - loss: 0.0786 - val_accuracy: 0.9315 - val_loss: 0.1737\n",
            "Epoch 7/10\n",
            "\u001b[1m500/500\u001b[0m \u001b[32m━━━━━━━━━━━━━━━━━━━━\u001b[0m\u001b[37m\u001b[0m \u001b[1m7s\u001b[0m 14ms/step - accuracy: 0.9916 - loss: 0.0573 - val_accuracy: 0.9310 - val_loss: 0.1720\n",
            "Epoch 8/10\n",
            "\u001b[1m500/500\u001b[0m \u001b[32m━━━━━━━━━━━━━━━━━━━━\u001b[0m\u001b[37m\u001b[0m \u001b[1m7s\u001b[0m 13ms/step - accuracy: 0.9951 - loss: 0.0419 - val_accuracy: 0.9285 - val_loss: 0.1732\n",
            "Epoch 9/10\n",
            "\u001b[1m500/500\u001b[0m \u001b[32m━━━━━━━━━━━━━━━━━━━━\u001b[0m\u001b[37m\u001b[0m \u001b[1m7s\u001b[0m 13ms/step - accuracy: 0.9967 - loss: 0.0308 - val_accuracy: 0.9275 - val_loss: 0.1764\n",
            "Epoch 10/10\n",
            "\u001b[1m500/500\u001b[0m \u001b[32m━━━━━━━━━━━━━━━━━━━━\u001b[0m\u001b[37m\u001b[0m \u001b[1m7s\u001b[0m 14ms/step - accuracy: 0.9982 - loss: 0.0226 - val_accuracy: 0.9275 - val_loss: 0.1809\n"
          ]
        },
        {
          "data": {
            "text/html": [
              "<pre style=\"white-space:pre;overflow-x:auto;line-height:normal;font-family:Menlo,'DejaVu Sans Mono',consolas,'Courier New',monospace\"><span style=\"font-weight: bold\">Model: \"sequential_5\"</span>\n",
              "</pre>\n"
            ],
            "text/plain": [
              "\u001b[1mModel: \"sequential_5\"\u001b[0m\n"
            ]
          },
          "metadata": {},
          "output_type": "display_data"
        },
        {
          "data": {
            "text/html": [
              "<pre style=\"white-space:pre;overflow-x:auto;line-height:normal;font-family:Menlo,'DejaVu Sans Mono',consolas,'Courier New',monospace\">┏━━━━━━━━━━━━━━━━━━━━━━━━━━━━━━━━━┳━━━━━━━━━━━━━━━━━━━━━━━━┳━━━━━━━━━━━━━━━┓\n",
              "┃<span style=\"font-weight: bold\"> Layer (type)                    </span>┃<span style=\"font-weight: bold\"> Output Shape           </span>┃<span style=\"font-weight: bold\">       Param # </span>┃\n",
              "┡━━━━━━━━━━━━━━━━━━━━━━━━━━━━━━━━━╇━━━━━━━━━━━━━━━━━━━━━━━━╇━━━━━━━━━━━━━━━┩\n",
              "│ dense_9 (<span style=\"color: #0087ff; text-decoration-color: #0087ff\">Dense</span>)                 │ (<span style=\"color: #00af00; text-decoration-color: #00af00\">32</span>, <span style=\"color: #00af00; text-decoration-color: #00af00\">16</span>)               │       <span style=\"color: #00af00; text-decoration-color: #00af00\">480,016</span> │\n",
              "├─────────────────────────────────┼────────────────────────┼───────────────┤\n",
              "│ dense_10 (<span style=\"color: #0087ff; text-decoration-color: #0087ff\">Dense</span>)                │ (<span style=\"color: #00af00; text-decoration-color: #00af00\">32</span>, <span style=\"color: #00af00; text-decoration-color: #00af00\">2</span>)                │            <span style=\"color: #00af00; text-decoration-color: #00af00\">34</span> │\n",
              "└─────────────────────────────────┴────────────────────────┴───────────────┘\n",
              "</pre>\n"
            ],
            "text/plain": [
              "┏━━━━━━━━━━━━━━━━━━━━━━━━━━━━━━━━━┳━━━━━━━━━━━━━━━━━━━━━━━━┳━━━━━━━━━━━━━━━┓\n",
              "┃\u001b[1m \u001b[0m\u001b[1mLayer (type)                   \u001b[0m\u001b[1m \u001b[0m┃\u001b[1m \u001b[0m\u001b[1mOutput Shape          \u001b[0m\u001b[1m \u001b[0m┃\u001b[1m \u001b[0m\u001b[1m      Param #\u001b[0m\u001b[1m \u001b[0m┃\n",
              "┡━━━━━━━━━━━━━━━━━━━━━━━━━━━━━━━━━╇━━━━━━━━━━━━━━━━━━━━━━━━╇━━━━━━━━━━━━━━━┩\n",
              "│ dense_9 (\u001b[38;5;33mDense\u001b[0m)                 │ (\u001b[38;5;34m32\u001b[0m, \u001b[38;5;34m16\u001b[0m)               │       \u001b[38;5;34m480,016\u001b[0m │\n",
              "├─────────────────────────────────┼────────────────────────┼───────────────┤\n",
              "│ dense_10 (\u001b[38;5;33mDense\u001b[0m)                │ (\u001b[38;5;34m32\u001b[0m, \u001b[38;5;34m2\u001b[0m)                │            \u001b[38;5;34m34\u001b[0m │\n",
              "└─────────────────────────────────┴────────────────────────┴───────────────┘\n"
            ]
          },
          "metadata": {},
          "output_type": "display_data"
        },
        {
          "data": {
            "text/html": [
              "<pre style=\"white-space:pre;overflow-x:auto;line-height:normal;font-family:Menlo,'DejaVu Sans Mono',consolas,'Courier New',monospace\"><span style=\"font-weight: bold\"> Total params: </span><span style=\"color: #00af00; text-decoration-color: #00af00\">1,440,152</span> (5.49 MB)\n",
              "</pre>\n"
            ],
            "text/plain": [
              "\u001b[1m Total params: \u001b[0m\u001b[38;5;34m1,440,152\u001b[0m (5.49 MB)\n"
            ]
          },
          "metadata": {},
          "output_type": "display_data"
        },
        {
          "data": {
            "text/html": [
              "<pre style=\"white-space:pre;overflow-x:auto;line-height:normal;font-family:Menlo,'DejaVu Sans Mono',consolas,'Courier New',monospace\"><span style=\"font-weight: bold\"> Trainable params: </span><span style=\"color: #00af00; text-decoration-color: #00af00\">480,050</span> (1.83 MB)\n",
              "</pre>\n"
            ],
            "text/plain": [
              "\u001b[1m Trainable params: \u001b[0m\u001b[38;5;34m480,050\u001b[0m (1.83 MB)\n"
            ]
          },
          "metadata": {},
          "output_type": "display_data"
        },
        {
          "data": {
            "text/html": [
              "<pre style=\"white-space:pre;overflow-x:auto;line-height:normal;font-family:Menlo,'DejaVu Sans Mono',consolas,'Courier New',monospace\"><span style=\"font-weight: bold\"> Non-trainable params: </span><span style=\"color: #00af00; text-decoration-color: #00af00\">0</span> (0.00 B)\n",
              "</pre>\n"
            ],
            "text/plain": [
              "\u001b[1m Non-trainable params: \u001b[0m\u001b[38;5;34m0\u001b[0m (0.00 B)\n"
            ]
          },
          "metadata": {},
          "output_type": "display_data"
        },
        {
          "data": {
            "text/html": [
              "<pre style=\"white-space:pre;overflow-x:auto;line-height:normal;font-family:Menlo,'DejaVu Sans Mono',consolas,'Courier New',monospace\"><span style=\"font-weight: bold\"> Optimizer params: </span><span style=\"color: #00af00; text-decoration-color: #00af00\">960,102</span> (3.66 MB)\n",
              "</pre>\n"
            ],
            "text/plain": [
              "\u001b[1m Optimizer params: \u001b[0m\u001b[38;5;34m960,102\u001b[0m (3.66 MB)\n"
            ]
          },
          "metadata": {},
          "output_type": "display_data"
        },
        {
          "data": {
            "image/png": "[encoded data removed]",
            "text/plain": [
              "<Figure size 640x480 with 1 Axes>"
            ]
          },
          "metadata": {},
          "output_type": "display_data"
        },
        {
          "name": "stdout",
          "output_type": "stream",
          "text": [
            "\u001b[1m63/63\u001b[0m \u001b[32m━━━━━━━━━━━━━━━━━━━━\u001b[0m\u001b[37m\u001b[0m \u001b[1m0s\u001b[0m 5ms/step\n",
            "Précision: 93.35%\n",
            "              precision    recall  f1-score   support\n",
            "\n",
            "           0       0.94      0.93      0.94      1052\n",
            "           1       0.93      0.93      0.93       948\n",
            "\n",
            "    accuracy                           0.93      2000\n",
            "   macro avg       0.93      0.93      0.93      2000\n",
            "weighted avg       0.93      0.93      0.93      2000\n",
            "\n"
          ]
        },
        {
          "data": {
            "image/png": "[encoded data removed]",
            "text/plain": [
              "<Figure size 640x480 with 2 Axes>"
            ]
          },
          "metadata": {},
          "output_type": "display_data"
        }
      ],
      "source": [
        "# Seed\n",
        "seed = 1\n",
        "\n",
        "# On garde uniquement les deux colonnes qui nous intéressent, et on se débarrasse des lignes contenant des champs vides (N/A)\n",
        "df = df[['review', 'polarity']].dropna()\n",
        "\n",
        "# OneHotEncoder 0  1\n",
        "enc = OneHotEncoder(sparse_output=False)\n",
        "labels = enc.fit_transform(df[['polarity']])  # Use double brackets to keep it as a DataFrame\n",
        "\n",
        "# Vector TF-IDF\n",
        "vectorization = TfidfVectorizer(\n",
        "    strip_accents='unicode',  # Suppression des accents\n",
        "    lowercase=True,           # Passage en minuscules\n",
        "    stop_words='english',      # Suppression des mots courants\n",
        "    ngram_range=(1, 2),      # Utilisation des unigrams et bigrams\n",
        "    max_features=30000,      # Limitation de la taille du dictionnaire\n",
        "    min_df=2,                # Ignorer les mots trop rares\n",
        "    max_df=0.95              # Ignorer les mots trop fréquents\n",
        ")\n",
        "tfidf = vectorization.fit_transform(df['review'])\n",
        "\n",
        "train_frac = 0.8\n",
        "valid_frac = 0.1\n",
        "test_frac = 0.1\n",
        "\n",
        "# On sépare d'abord le jeu d'entraînement du reste\n",
        "X_train, X_2, y_train, y_2 = train_test_split(tfidf, labels, test_size=valid_frac + test_frac, shuffle=True, random_state=seed)\n",
        "# Puis on sépare le reste en deux (validation et test)\n",
        "X_valid, X_test, y_valid, y_test = train_test_split(X_2, y_2, test_size=test_frac/(test_frac + valid_frac), shuffle=True, random_state=seed)\n",
        "\n",
        "#datasets\n",
        "print(X_train.shape)\n",
        "print(y_train.shape)\n",
        "print(X_valid.shape)\n",
        "print(y_valid.shape)\n",
        "print(X_test.shape)\n",
        "print(y_test.shape)\n",
        "\n",
        "def display_accuracy(history):\n",
        "    plt.plot(history.history['accuracy'], label='Précision (entraînement)')\n",
        "    plt.plot(history.history['val_accuracy'], label='Précision (validation)')\n",
        "    plt.xlabel('Itération')\n",
        "    plt.legend()\n",
        "    plt.grid()\n",
        "    plt.show()\n",
        "\n",
        "# Création d'un réseau de neurones (liste de couches)\n",
        "model4 = Sequential()\n",
        "model4.add(Dense(16, activation='sigmoid')) # Ajout d'une couche cachée avec 16 sorties, utilisant la fonction d'activation sigmoïde\n",
        "model4.add(Dense(2, activation='softmax')) # Ajout de la couche de sortie, avec 2 sorties (positive), et utilisant le Softmax comme fonction d'application\n",
        "\n",
        "# Entraînement et affichage\n",
        "model4.compile(optimizer='adam', loss='categorical_crossentropy', metrics=['accuracy'])\n",
        "history = model4.fit(X_train, y_train, epochs=10, validation_data=(X_valid, y_valid))\n",
        "\n",
        "# Summary, accuracy\n",
        "model4.summary()\n",
        "display_accuracy(history)\n",
        "\n",
        "# Calcul de la précision sur le jeu de test\n",
        "y_pred = model4.predict(X_test).argmax(axis=1)\n",
        "y_true = y_test.argmax(axis=1)\n",
        "print(f\"Précision: {(y_pred == y_true).sum() / len(y_pred):.2%}\")\n",
        "\n",
        "#classification\n",
        "print(classification_report(y_true, y_pred, target_names=enc.categories_[0].astype(str)))\n",
        "\n",
        "#matrice de confusion\n",
        "ConfusionMatrixDisplay.from_predictions(y_true, y_pred, display_labels=enc.categories_[0].astype(str))\n",
        "plt.show()\n"
      ]
    }
  ],
  "metadata": {
    "kernelspec": {
      "display_name": "Python 3",
      "language": "python",
      "name": "python3"
    },
    "language_info": {
      "codemirror_mode": {
        "name": "ipython",
        "version": 3
      },
      "file_extension": ".py",
      "mimetype": "text/x-python",
      "name": "python",
      "nbconvert_exporter": "python",
      "pygments_lexer": "ipython3",
      "version": "3.12.6"
    },
    "colab": {
      "provenance": []
    }
  },
  "nbformat": 4,
  "nbformat_minor": 5
}